{
 "cells": [
  {
   "cell_type": "code",
   "execution_count": null,
   "metadata": {},
   "outputs": [],
   "source": [
    "import os\n",
    "import pandas as pd\n"
   ]
  },
  {
   "cell_type": "code",
   "execution_count": null,
   "metadata": {},
   "outputs": [],
   "source": [
    "csv_file_path = \"../results/summary_\"\n",
    "results_df = pd.read_csv(csv_file_path)"
   ]
  },
  {
   "cell_type": "code",
   "execution_count": null,
   "metadata": {},
   "outputs": [],
   "source": [
    "fields_to_select = [\n",
    "            \"tool\",\n",
    "            \"model\",\n",
    "            \"accuracy\",\n",
    "            \"correct\",\n",
    "            \"total\",\n",
    "            \"total_tokens_mean\",\n",
    "            \"total_cost_mean\"\n",
    "        ]"
   ]
  },
  {
   "cell_type": "code",
   "execution_count": null,
   "metadata": {},
   "outputs": [],
   "source": [
    "filtered_results = results_df[[fields_to_select]]"
   ]
  },
  {
   "cell_type": "code",
   "execution_count": null,
   "metadata": {},
   "outputs": [],
   "source": [
    "new_columns =[\"Tool\",\"Model\",\"Accuracy\",\"Correct\",\"Total\",\"Mean Tokens Used\",\"Mean Cost ($)\"]\n",
    "\n",
    "filtered_results.rename(columns=dict(zip(fields_to_select, new_columns)), inplace=True)\n",
    "filtered_results.to_csv(csv_file_path)"
   ]
  },
  {
   "cell_type": "markdown",
   "metadata": {},
   "source": [
    "# Generate output dataset"
   ]
  },
  {
   "cell_type": "code",
   "execution_count": null,
   "metadata": {},
   "outputs": [],
   "source": []
  }
 ],
 "metadata": {
  "language_info": {
   "name": "python"
  }
 },
 "nbformat": 4,
 "nbformat_minor": 2
}
