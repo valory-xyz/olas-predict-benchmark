{
 "cells": [
  {
   "cell_type": "code",
   "execution_count": 1,
   "metadata": {},
   "outputs": [],
   "source": [
    "import os\n",
    "import pandas as pd\n"
   ]
  },
  {
   "cell_type": "code",
   "execution_count": 2,
   "metadata": {},
   "outputs": [],
   "source": [
    "old_ranking = pd.read_csv(\"formatted_data.csv\")"
   ]
  },
  {
   "cell_type": "code",
   "execution_count": 3,
   "metadata": {},
   "outputs": [
    {
     "data": {
      "text/html": [
       "<div>\n",
       "<style scoped>\n",
       "    .dataframe tbody tr th:only-of-type {\n",
       "        vertical-align: middle;\n",
       "    }\n",
       "\n",
       "    .dataframe tbody tr th {\n",
       "        vertical-align: top;\n",
       "    }\n",
       "\n",
       "    .dataframe thead th {\n",
       "        text-align: right;\n",
       "    }\n",
       "</style>\n",
       "<table border=\"1\" class=\"dataframe\">\n",
       "  <thead>\n",
       "    <tr style=\"text-align: right;\">\n",
       "      <th></th>\n",
       "      <th>Tool</th>\n",
       "      <th>Model</th>\n",
       "      <th>Accuracy</th>\n",
       "      <th>Correct</th>\n",
       "      <th>Total</th>\n",
       "      <th>Mean Tokens Used</th>\n",
       "      <th>Mean Cost ($)</th>\n",
       "    </tr>\n",
       "  </thead>\n",
       "  <tbody>\n",
       "    <tr>\n",
       "      <th>0</th>\n",
       "      <td>prediction-offline</td>\n",
       "      <td>claude-3-sonnet-20240229</td>\n",
       "      <td>0.756839</td>\n",
       "      <td>249</td>\n",
       "      <td>329</td>\n",
       "      <td>920.598784</td>\n",
       "      <td>0.003374</td>\n",
       "    </tr>\n",
       "    <tr>\n",
       "      <th>1</th>\n",
       "      <td>prediction-offline</td>\n",
       "      <td>claude-3-opus-20240229</td>\n",
       "      <td>0.755882</td>\n",
       "      <td>257</td>\n",
       "      <td>340</td>\n",
       "      <td>920.450000</td>\n",
       "      <td>0.016866</td>\n",
       "    </tr>\n",
       "    <tr>\n",
       "      <th>2</th>\n",
       "      <td>prediction-request-reasoning</td>\n",
       "      <td>claude-3-sonnet-20240229</td>\n",
       "      <td>0.753125</td>\n",
       "      <td>241</td>\n",
       "      <td>320</td>\n",
       "      <td>2645.509375</td>\n",
       "      <td>0.019255</td>\n",
       "    </tr>\n",
       "    <tr>\n",
       "      <th>3</th>\n",
       "      <td>prediction-offline</td>\n",
       "      <td>gpt-4-0125-preview</td>\n",
       "      <td>0.750769</td>\n",
       "      <td>244</td>\n",
       "      <td>325</td>\n",
       "      <td>727.184615</td>\n",
       "      <td>0.008049</td>\n",
       "    </tr>\n",
       "    <tr>\n",
       "      <th>4</th>\n",
       "      <td>prediction-offline-sme</td>\n",
       "      <td>gpt-4-0125-preview</td>\n",
       "      <td>0.748485</td>\n",
       "      <td>247</td>\n",
       "      <td>330</td>\n",
       "      <td>1416.848485</td>\n",
       "      <td>0.018169</td>\n",
       "    </tr>\n",
       "  </tbody>\n",
       "</table>\n",
       "</div>"
      ],
      "text/plain": [
       "                           Tool                     Model  Accuracy  Correct  \\\n",
       "0            prediction-offline  claude-3-sonnet-20240229  0.756839      249   \n",
       "1            prediction-offline    claude-3-opus-20240229  0.755882      257   \n",
       "2  prediction-request-reasoning  claude-3-sonnet-20240229  0.753125      241   \n",
       "3            prediction-offline        gpt-4-0125-preview  0.750769      244   \n",
       "4        prediction-offline-sme        gpt-4-0125-preview  0.748485      247   \n",
       "\n",
       "   Total  Mean Tokens Used  Mean Cost ($)  \n",
       "0    329        920.598784       0.003374  \n",
       "1    340        920.450000       0.016866  \n",
       "2    320       2645.509375       0.019255  \n",
       "3    325        727.184615       0.008049  \n",
       "4    330       1416.848485       0.018169  "
      ]
     },
     "execution_count": 3,
     "metadata": {},
     "output_type": "execute_result"
    }
   ],
   "source": [
    "old_ranking.head()"
   ]
  },
  {
   "cell_type": "code",
   "execution_count": 4,
   "metadata": {},
   "outputs": [
    {
     "name": "stdout",
     "output_type": "stream",
     "text": [
      "<class 'pandas.core.frame.DataFrame'>\n",
      "RangeIndex: 30 entries, 0 to 29\n",
      "Data columns (total 7 columns):\n",
      " #   Column            Non-Null Count  Dtype  \n",
      "---  ------            --------------  -----  \n",
      " 0   Tool              30 non-null     object \n",
      " 1   Model             30 non-null     object \n",
      " 2   Accuracy          30 non-null     float64\n",
      " 3   Correct           30 non-null     int64  \n",
      " 4   Total             30 non-null     int64  \n",
      " 5   Mean Tokens Used  30 non-null     float64\n",
      " 6   Mean Cost ($)     30 non-null     float64\n",
      "dtypes: float64(3), int64(2), object(2)\n",
      "memory usage: 1.8+ KB\n"
     ]
    }
   ],
   "source": [
    "old_ranking.info()"
   ]
  },
  {
   "cell_type": "code",
   "execution_count": null,
   "metadata": {},
   "outputs": [],
   "source": []
  },
  {
   "cell_type": "code",
   "execution_count": 5,
   "metadata": {},
   "outputs": [],
   "source": [
    "\n",
    "results_df = pd.read_csv(\"new_data.csv\")"
   ]
  },
  {
   "cell_type": "code",
   "execution_count": 8,
   "metadata": {},
   "outputs": [
    {
     "name": "stdout",
     "output_type": "stream",
     "text": [
      "<class 'pandas.core.frame.DataFrame'>\n",
      "RangeIndex: 9 entries, 0 to 8\n",
      "Data columns (total 12 columns):\n",
      " #   Column              Non-Null Count  Dtype  \n",
      "---  ------              --------------  -----  \n",
      " 0   tool                9 non-null      object \n",
      " 1   model               9 non-null      object \n",
      " 2   accuracy            9 non-null      float64\n",
      " 3   correct             9 non-null      int64  \n",
      " 4   total               9 non-null      int64  \n",
      " 5   crowd_accuracy      9 non-null      float64\n",
      " 6   input_tokens_mean   9 non-null      float64\n",
      " 7   output_tokens_mean  9 non-null      float64\n",
      " 8   total_tokens_mean   9 non-null      float64\n",
      " 9   input_cost_mean     9 non-null      float64\n",
      " 10  output_cost_mean    9 non-null      float64\n",
      " 11  total_cost_mean     9 non-null      float64\n",
      "dtypes: float64(8), int64(2), object(2)\n",
      "memory usage: 996.0+ bytes\n"
     ]
    }
   ],
   "source": [
    "results_df.info()"
   ]
  },
  {
   "cell_type": "code",
   "execution_count": 6,
   "metadata": {},
   "outputs": [],
   "source": [
    "fields_to_select = [\n",
    "            \"tool\",\n",
    "            \"model\",\n",
    "            \"accuracy\",\n",
    "            \"correct\",\n",
    "            \"total\",\n",
    "            \"total_tokens_mean\",\n",
    "            \"total_cost_mean\"\n",
    "        ]"
   ]
  },
  {
   "cell_type": "code",
   "execution_count": 9,
   "metadata": {},
   "outputs": [],
   "source": [
    "filtered_results = results_df[fields_to_select]"
   ]
  },
  {
   "cell_type": "code",
   "execution_count": 10,
   "metadata": {},
   "outputs": [
    {
     "name": "stderr",
     "output_type": "stream",
     "text": [
      "/var/folders/gp/02mb1d514ng739czlxw1lhh00000gn/T/ipykernel_42660/99758327.py:3: SettingWithCopyWarning: \n",
      "A value is trying to be set on a copy of a slice from a DataFrame\n",
      "\n",
      "See the caveats in the documentation: https://pandas.pydata.org/pandas-docs/stable/user_guide/indexing.html#returning-a-view-versus-a-copy\n",
      "  filtered_results.rename(columns=dict(zip(fields_to_select, new_columns)), inplace=True)\n"
     ]
    }
   ],
   "source": [
    "new_columns =[\"Tool\",\"Model\",\"Accuracy\",\"Correct\",\"Total\",\"Mean Tokens Used\",\"Mean Cost ($)\"]\n",
    "\n",
    "filtered_results.rename(columns=dict(zip(fields_to_select, new_columns)), inplace=True)\n",
    "filtered_results.to_csv(\"new_data_formatted.csv\")"
   ]
  },
  {
   "cell_type": "code",
   "execution_count": 11,
   "metadata": {},
   "outputs": [
    {
     "data": {
      "text/html": [
       "<div>\n",
       "<style scoped>\n",
       "    .dataframe tbody tr th:only-of-type {\n",
       "        vertical-align: middle;\n",
       "    }\n",
       "\n",
       "    .dataframe tbody tr th {\n",
       "        vertical-align: top;\n",
       "    }\n",
       "\n",
       "    .dataframe thead th {\n",
       "        text-align: right;\n",
       "    }\n",
       "</style>\n",
       "<table border=\"1\" class=\"dataframe\">\n",
       "  <thead>\n",
       "    <tr style=\"text-align: right;\">\n",
       "      <th></th>\n",
       "      <th>Tool</th>\n",
       "      <th>Model</th>\n",
       "      <th>Accuracy</th>\n",
       "      <th>Correct</th>\n",
       "      <th>Total</th>\n",
       "      <th>Mean Tokens Used</th>\n",
       "      <th>Mean Cost ($)</th>\n",
       "    </tr>\n",
       "  </thead>\n",
       "  <tbody>\n",
       "    <tr>\n",
       "      <th>0</th>\n",
       "      <td>prediction-offline</td>\n",
       "      <td>gpt-4o-2024-08-06</td>\n",
       "      <td>0.716418</td>\n",
       "      <td>240</td>\n",
       "      <td>335</td>\n",
       "      <td>732.077612</td>\n",
       "      <td>0.008161</td>\n",
       "    </tr>\n",
       "    <tr>\n",
       "      <th>1</th>\n",
       "      <td>prediction-offline-sme</td>\n",
       "      <td>gpt-4o-2024-08-06</td>\n",
       "      <td>0.748521</td>\n",
       "      <td>253</td>\n",
       "      <td>338</td>\n",
       "      <td>1381.372781</td>\n",
       "      <td>0.017382</td>\n",
       "    </tr>\n",
       "    <tr>\n",
       "      <th>2</th>\n",
       "      <td>prediction-online</td>\n",
       "      <td>gpt-4o-2024-08-06</td>\n",
       "      <td>0.750742</td>\n",
       "      <td>253</td>\n",
       "      <td>337</td>\n",
       "      <td>2484.083086</td>\n",
       "      <td>0.026884</td>\n",
       "    </tr>\n",
       "    <tr>\n",
       "      <th>3</th>\n",
       "      <td>prediction-request-rag</td>\n",
       "      <td>gpt-4o-2024-08-06</td>\n",
       "      <td>0.790997</td>\n",
       "      <td>246</td>\n",
       "      <td>311</td>\n",
       "      <td>2437.675241</td>\n",
       "      <td>0.031401</td>\n",
       "    </tr>\n",
       "    <tr>\n",
       "      <th>4</th>\n",
       "      <td>prediction-request-reasoning</td>\n",
       "      <td>gpt-4o-2024-08-06</td>\n",
       "      <td>0.764259</td>\n",
       "      <td>201</td>\n",
       "      <td>263</td>\n",
       "      <td>2408.714829</td>\n",
       "      <td>0.041234</td>\n",
       "    </tr>\n",
       "  </tbody>\n",
       "</table>\n",
       "</div>"
      ],
      "text/plain": [
       "                           Tool              Model  Accuracy  Correct  Total  \\\n",
       "0            prediction-offline  gpt-4o-2024-08-06  0.716418      240    335   \n",
       "1        prediction-offline-sme  gpt-4o-2024-08-06  0.748521      253    338   \n",
       "2             prediction-online  gpt-4o-2024-08-06  0.750742      253    337   \n",
       "3        prediction-request-rag  gpt-4o-2024-08-06  0.790997      246    311   \n",
       "4  prediction-request-reasoning  gpt-4o-2024-08-06  0.764259      201    263   \n",
       "\n",
       "   Mean Tokens Used  Mean Cost ($)  \n",
       "0        732.077612       0.008161  \n",
       "1       1381.372781       0.017382  \n",
       "2       2484.083086       0.026884  \n",
       "3       2437.675241       0.031401  \n",
       "4       2408.714829       0.041234  "
      ]
     },
     "execution_count": 11,
     "metadata": {},
     "output_type": "execute_result"
    }
   ],
   "source": [
    "filtered_results.head()"
   ]
  },
  {
   "cell_type": "markdown",
   "metadata": {},
   "source": [
    "# Generate output dataset"
   ]
  },
  {
   "cell_type": "code",
   "execution_count": 12,
   "metadata": {},
   "outputs": [
    {
     "name": "stdout",
     "output_type": "stream",
     "text": [
      "<class 'pandas.core.frame.DataFrame'>\n",
      "RangeIndex: 9 entries, 0 to 8\n",
      "Data columns (total 7 columns):\n",
      " #   Column            Non-Null Count  Dtype  \n",
      "---  ------            --------------  -----  \n",
      " 0   Tool              9 non-null      object \n",
      " 1   Model             9 non-null      object \n",
      " 2   Accuracy          9 non-null      float64\n",
      " 3   Correct           9 non-null      int64  \n",
      " 4   Total             9 non-null      int64  \n",
      " 5   Mean Tokens Used  9 non-null      float64\n",
      " 6   Mean Cost ($)     9 non-null      float64\n",
      "dtypes: float64(3), int64(2), object(2)\n",
      "memory usage: 636.0+ bytes\n"
     ]
    }
   ],
   "source": [
    "filtered_results.info()"
   ]
  },
  {
   "cell_type": "code",
   "execution_count": 13,
   "metadata": {},
   "outputs": [],
   "source": [
    "test = pd.concat([old_ranking, filtered_results], ignore_index=True)"
   ]
  },
  {
   "cell_type": "code",
   "execution_count": 14,
   "metadata": {},
   "outputs": [
    {
     "data": {
      "text/html": [
       "<div>\n",
       "<style scoped>\n",
       "    .dataframe tbody tr th:only-of-type {\n",
       "        vertical-align: middle;\n",
       "    }\n",
       "\n",
       "    .dataframe tbody tr th {\n",
       "        vertical-align: top;\n",
       "    }\n",
       "\n",
       "    .dataframe thead th {\n",
       "        text-align: right;\n",
       "    }\n",
       "</style>\n",
       "<table border=\"1\" class=\"dataframe\">\n",
       "  <thead>\n",
       "    <tr style=\"text-align: right;\">\n",
       "      <th></th>\n",
       "      <th>Tool</th>\n",
       "      <th>Model</th>\n",
       "      <th>Accuracy</th>\n",
       "      <th>Correct</th>\n",
       "      <th>Total</th>\n",
       "      <th>Mean Tokens Used</th>\n",
       "      <th>Mean Cost ($)</th>\n",
       "    </tr>\n",
       "  </thead>\n",
       "  <tbody>\n",
       "    <tr>\n",
       "      <th>0</th>\n",
       "      <td>prediction-offline</td>\n",
       "      <td>claude-3-sonnet-20240229</td>\n",
       "      <td>0.756839</td>\n",
       "      <td>249</td>\n",
       "      <td>329</td>\n",
       "      <td>920.598784</td>\n",
       "      <td>0.003374</td>\n",
       "    </tr>\n",
       "    <tr>\n",
       "      <th>1</th>\n",
       "      <td>prediction-offline</td>\n",
       "      <td>claude-3-opus-20240229</td>\n",
       "      <td>0.755882</td>\n",
       "      <td>257</td>\n",
       "      <td>340</td>\n",
       "      <td>920.450000</td>\n",
       "      <td>0.016866</td>\n",
       "    </tr>\n",
       "    <tr>\n",
       "      <th>2</th>\n",
       "      <td>prediction-request-reasoning</td>\n",
       "      <td>claude-3-sonnet-20240229</td>\n",
       "      <td>0.753125</td>\n",
       "      <td>241</td>\n",
       "      <td>320</td>\n",
       "      <td>2645.509375</td>\n",
       "      <td>0.019255</td>\n",
       "    </tr>\n",
       "    <tr>\n",
       "      <th>3</th>\n",
       "      <td>prediction-offline</td>\n",
       "      <td>gpt-4-0125-preview</td>\n",
       "      <td>0.750769</td>\n",
       "      <td>244</td>\n",
       "      <td>325</td>\n",
       "      <td>727.184615</td>\n",
       "      <td>0.008049</td>\n",
       "    </tr>\n",
       "    <tr>\n",
       "      <th>4</th>\n",
       "      <td>prediction-offline-sme</td>\n",
       "      <td>gpt-4-0125-preview</td>\n",
       "      <td>0.748485</td>\n",
       "      <td>247</td>\n",
       "      <td>330</td>\n",
       "      <td>1416.848485</td>\n",
       "      <td>0.018169</td>\n",
       "    </tr>\n",
       "  </tbody>\n",
       "</table>\n",
       "</div>"
      ],
      "text/plain": [
       "                           Tool                     Model  Accuracy  Correct  \\\n",
       "0            prediction-offline  claude-3-sonnet-20240229  0.756839      249   \n",
       "1            prediction-offline    claude-3-opus-20240229  0.755882      257   \n",
       "2  prediction-request-reasoning  claude-3-sonnet-20240229  0.753125      241   \n",
       "3            prediction-offline        gpt-4-0125-preview  0.750769      244   \n",
       "4        prediction-offline-sme        gpt-4-0125-preview  0.748485      247   \n",
       "\n",
       "   Total  Mean Tokens Used  Mean Cost ($)  \n",
       "0    329        920.598784       0.003374  \n",
       "1    340        920.450000       0.016866  \n",
       "2    320       2645.509375       0.019255  \n",
       "3    325        727.184615       0.008049  \n",
       "4    330       1416.848485       0.018169  "
      ]
     },
     "execution_count": 14,
     "metadata": {},
     "output_type": "execute_result"
    }
   ],
   "source": [
    "test.head()"
   ]
  },
  {
   "cell_type": "code",
   "execution_count": 15,
   "metadata": {},
   "outputs": [
    {
     "name": "stdout",
     "output_type": "stream",
     "text": [
      "<class 'pandas.core.frame.DataFrame'>\n",
      "RangeIndex: 39 entries, 0 to 38\n",
      "Data columns (total 7 columns):\n",
      " #   Column            Non-Null Count  Dtype  \n",
      "---  ------            --------------  -----  \n",
      " 0   Tool              39 non-null     object \n",
      " 1   Model             39 non-null     object \n",
      " 2   Accuracy          39 non-null     float64\n",
      " 3   Correct           39 non-null     int64  \n",
      " 4   Total             39 non-null     int64  \n",
      " 5   Mean Tokens Used  39 non-null     float64\n",
      " 6   Mean Cost ($)     39 non-null     float64\n",
      "dtypes: float64(3), int64(2), object(2)\n",
      "memory usage: 2.3+ KB\n"
     ]
    }
   ],
   "source": [
    "test.info()"
   ]
  },
  {
   "cell_type": "code",
   "execution_count": 22,
   "metadata": {},
   "outputs": [],
   "source": [
    "updated_formatted_data = test.sort_values(by=\"Accuracy\", ascending=False)"
   ]
  },
  {
   "cell_type": "code",
   "execution_count": 23,
   "metadata": {},
   "outputs": [
    {
     "data": {
      "text/html": [
       "<div>\n",
       "<style scoped>\n",
       "    .dataframe tbody tr th:only-of-type {\n",
       "        vertical-align: middle;\n",
       "    }\n",
       "\n",
       "    .dataframe tbody tr th {\n",
       "        vertical-align: top;\n",
       "    }\n",
       "\n",
       "    .dataframe thead th {\n",
       "        text-align: right;\n",
       "    }\n",
       "</style>\n",
       "<table border=\"1\" class=\"dataframe\">\n",
       "  <thead>\n",
       "    <tr style=\"text-align: right;\">\n",
       "      <th></th>\n",
       "      <th>Tool</th>\n",
       "      <th>Model</th>\n",
       "      <th>Accuracy</th>\n",
       "      <th>Correct</th>\n",
       "      <th>Total</th>\n",
       "      <th>Mean Tokens Used</th>\n",
       "      <th>Mean Cost ($)</th>\n",
       "    </tr>\n",
       "  </thead>\n",
       "  <tbody>\n",
       "    <tr>\n",
       "      <th>33</th>\n",
       "      <td>prediction-request-rag</td>\n",
       "      <td>gpt-4o-2024-08-06</td>\n",
       "      <td>0.790997</td>\n",
       "      <td>246</td>\n",
       "      <td>311</td>\n",
       "      <td>2437.675241</td>\n",
       "      <td>0.031401</td>\n",
       "    </tr>\n",
       "    <tr>\n",
       "      <th>38</th>\n",
       "      <td>prediction-request-reasoning</td>\n",
       "      <td>claude-3-5-sonnet-20240620</td>\n",
       "      <td>0.783051</td>\n",
       "      <td>231</td>\n",
       "      <td>295</td>\n",
       "      <td>2815.305085</td>\n",
       "      <td>0.020906</td>\n",
       "    </tr>\n",
       "    <tr>\n",
       "      <th>34</th>\n",
       "      <td>prediction-request-reasoning</td>\n",
       "      <td>gpt-4o-2024-08-06</td>\n",
       "      <td>0.764259</td>\n",
       "      <td>201</td>\n",
       "      <td>263</td>\n",
       "      <td>2408.714829</td>\n",
       "      <td>0.041234</td>\n",
       "    </tr>\n",
       "    <tr>\n",
       "      <th>37</th>\n",
       "      <td>prediction-request-rag</td>\n",
       "      <td>claude-3-5-sonnet-20240620</td>\n",
       "      <td>0.758209</td>\n",
       "      <td>254</td>\n",
       "      <td>335</td>\n",
       "      <td>2893.865672</td>\n",
       "      <td>0.015629</td>\n",
       "    </tr>\n",
       "    <tr>\n",
       "      <th>0</th>\n",
       "      <td>prediction-offline</td>\n",
       "      <td>claude-3-sonnet-20240229</td>\n",
       "      <td>0.756839</td>\n",
       "      <td>249</td>\n",
       "      <td>329</td>\n",
       "      <td>920.598784</td>\n",
       "      <td>0.003374</td>\n",
       "    </tr>\n",
       "  </tbody>\n",
       "</table>\n",
       "</div>"
      ],
      "text/plain": [
       "                            Tool                       Model  Accuracy  \\\n",
       "33        prediction-request-rag           gpt-4o-2024-08-06  0.790997   \n",
       "38  prediction-request-reasoning  claude-3-5-sonnet-20240620  0.783051   \n",
       "34  prediction-request-reasoning           gpt-4o-2024-08-06  0.764259   \n",
       "37        prediction-request-rag  claude-3-5-sonnet-20240620  0.758209   \n",
       "0             prediction-offline    claude-3-sonnet-20240229  0.756839   \n",
       "\n",
       "    Correct  Total  Mean Tokens Used  Mean Cost ($)  \n",
       "33      246    311       2437.675241       0.031401  \n",
       "38      231    295       2815.305085       0.020906  \n",
       "34      201    263       2408.714829       0.041234  \n",
       "37      254    335       2893.865672       0.015629  \n",
       "0       249    329        920.598784       0.003374  "
      ]
     },
     "execution_count": 23,
     "metadata": {},
     "output_type": "execute_result"
    }
   ],
   "source": [
    "updated_formatted_data.head()"
   ]
  },
  {
   "cell_type": "code",
   "execution_count": 24,
   "metadata": {},
   "outputs": [],
   "source": [
    "updated_formatted_data.to_csv(\"formatted_data.csv\", index=False)"
   ]
  }
 ],
 "metadata": {
  "kernelspec": {
   "display_name": "hf_dashboards",
   "language": "python",
   "name": "python3"
  },
  "language_info": {
   "codemirror_mode": {
    "name": "ipython",
    "version": 3
   },
   "file_extension": ".py",
   "mimetype": "text/x-python",
   "name": "python",
   "nbconvert_exporter": "python",
   "pygments_lexer": "ipython3",
   "version": "3.12.2"
  }
 },
 "nbformat": 4,
 "nbformat_minor": 2
}
