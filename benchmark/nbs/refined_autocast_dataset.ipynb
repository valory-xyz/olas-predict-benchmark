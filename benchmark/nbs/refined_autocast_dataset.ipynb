{
 "cells": [
  {
   "cell_type": "markdown",
   "metadata": {},
   "source": [
    "In this notebooks, we will refine the autocast dataset for mech benchmarking use case\n",
    "- why? there dead urls, paywalls, etc.\n",
    "- the refining would filter out and keep only \"working\" URLs"
   ]
  },
  {
   "cell_type": "code",
   "execution_count": 1,
   "metadata": {},
   "outputs": [],
   "source": [
    "import pickle\n",
    "import requests\n",
    "import pandas as pd\n",
    "from tqdm import tqdm\n",
    "from bs4 import BeautifulSoup\n",
    "from concurrent.futures import ThreadPoolExecutor, as_completed\n",
    "from typing import Optional\n",
    "\n",
    "from IPython.display import display, HTML, Markdown\n",
    "\n",
    "pd.set_option('display.precision', 5)"
   ]
  },
  {
   "cell_type": "markdown",
   "metadata": {},
   "source": [
    "#### Understand Autocast"
   ]
  },
  {
   "cell_type": "code",
   "execution_count": 2,
   "metadata": {},
   "outputs": [
    {
     "name": "stdout",
     "output_type": "stream",
     "text": [
      "(6532, 14)\n",
      "(3225, 14)\n",
      "(2003, 14)\n",
      "(1403, 14)\n"
     ]
    }
   ],
   "source": [
    "# load all questions\n",
    "path = \"../data/autocast/autocast_questions.json\"\n",
    "df = pd.read_json(path)\n",
    "print(df.shape)\n",
    "\n",
    "# filter out non-true/false questions\n",
    "df = df[df[\"qtype\"] == \"t/f\"].reset_index(drop=True)\n",
    "print(df.shape)\n",
    "\n",
    "# make sure answers is not None\n",
    "df = df[df[\"answer\"].notnull()].reset_index(drop=True)\n",
    "print(df.shape)\n",
    "\n",
    "# make sure source_links is not []\n",
    "df = df[df[\"source_links\"].map(len) > 0].reset_index(drop=True)\n",
    "print(df.shape)"
   ]
  },
  {
   "cell_type": "code",
   "execution_count": 3,
   "metadata": {},
   "outputs": [],
   "source": [
    "# number of links per question\n",
    "df['num_links'] = df['source_links'].apply(lambda x: len(x))"
   ]
  },
  {
   "cell_type": "code",
   "execution_count": 4,
   "metadata": {},
   "outputs": [
    {
     "data": {
      "text/plain": [
       "0.25      3.0\n",
       "0.50      5.0\n",
       "0.75     30.0\n",
       "0.90     99.0\n",
       "0.95    178.7\n",
       "0.99    441.6\n",
       "Name: num_links, dtype: float64"
      ]
     },
     "execution_count": 4,
     "metadata": {},
     "output_type": "execute_result"
    }
   ],
   "source": [
    "# quantiles\n",
    "df['num_links'].quantile([0.25, 0.5, .75, .9, .95, .99])"
   ]
  },
  {
   "cell_type": "code",
   "execution_count": 5,
   "metadata": {},
   "outputs": [
    {
     "data": {
      "text/plain": [
       "num_links\n",
       "1     170\n",
       "2     167\n",
       "3     156\n",
       "4     150\n",
       "5     107\n",
       "6      71\n",
       "7      48\n",
       "8      62\n",
       "9      27\n",
       "10     15\n",
       "11     14\n",
       "12      7\n",
       "13      5\n",
       "14      2\n",
       "15      4\n",
       "16      3\n",
       "17      1\n",
       "18      4\n",
       "19      2\n",
       "20      2\n",
       "Name: count, dtype: int64"
      ]
     },
     "execution_count": 5,
     "metadata": {},
     "output_type": "execute_result"
    }
   ],
   "source": [
    "# Value counts of num_links\n",
    "df['num_links'].value_counts().sort_index()[:20]"
   ]
  },
  {
   "cell_type": "markdown",
   "metadata": {},
   "source": [
    "#### Extract source_links"
   ]
  },
  {
   "cell_type": "code",
   "execution_count": 6,
   "metadata": {},
   "outputs": [],
   "source": [
    "def extract_text(\n",
    "    html: str,\n",
    "    num_words: Optional[int],\n",
    ") -> str:\n",
    "    \"\"\"Extract text from a single HTML document\"\"\"\n",
    "    soup = BeautifulSoup(html, \"html.parser\")\n",
    "    for script in soup([\"script\", \"style\"]):\n",
    "        script.extract()\n",
    "    text = soup.get_text()\n",
    "\n",
    "    return text\n",
    "\n",
    "def get_html(url: str) -> Optional[str]:\n",
    "    \"\"\"Get the HTML of a single URL\"\"\"\n",
    "    filter_words = [\n",
    "        \"facebook\",\n",
    "        \"twitter\",\n",
    "        \"youtube\",\n",
    "        \"instagram\",\n",
    "        \"pinterest\",\n",
    "        \"linkedin\",\n",
    "        \"bloomberg\",\n",
    "    ]\n",
    "\n",
    "    if any([word in url.lower() for word in filter_words]):\n",
    "        return {\n",
    "            \"url\": url,\n",
    "            \"error\": True,\n",
    "            \"error_message\": \"filtered\",\n",
    "            \"text\": None,\n",
    "        }\n",
    "    \n",
    "    try:\n",
    "        response = requests.get(url, timeout=5)\n",
    "        response.raise_for_status()\n",
    "        html = response.text\n",
    "        text = extract_text(html, num_words=1000)\n",
    "        return {\n",
    "            \"url\": url,\n",
    "            \"error\": False,\n",
    "            \"error_message\": None,\n",
    "            \"text\": text,\n",
    "        }\n",
    "    \n",
    "    except Exception as e:\n",
    "        return {\n",
    "            \"url\": url,\n",
    "            \"error\": True,\n",
    "            \"error_message\": str(e),\n",
    "            \"text\": None,\n",
    "        }"
   ]
  },
  {
   "cell_type": "code",
   "execution_count": 7,
   "metadata": {},
   "outputs": [
    {
     "data": {
      "text/plain": [
       "47357"
      ]
     },
     "execution_count": 7,
     "metadata": {},
     "output_type": "execute_result"
    }
   ],
   "source": [
    "all_questions = [q for questions in df[\"source_links\"] for q in questions if q not in [\"\", None]]\n",
    "all_questions = list(set(all_questions))\n",
    "len(all_questions)"
   ]
  },
  {
   "cell_type": "code",
   "execution_count": 19,
   "metadata": {},
   "outputs": [
    {
     "name": "stderr",
     "output_type": "stream",
     "text": [
      "100%|██████████| 47357/47357 [00:00<00:00, 50477.20it/s]\n",
      "  5%|▍         | 2316/47357 [07:08<2:32:52,  4.91it/s]/var/folders/l_/g22b1g_n0gn4tmx9lkxqv5x00000gn/T/ipykernel_47172/1006404430.py:6: MarkupResemblesLocatorWarning: The input looks more like a filename than markup. You may want to open this file and pass the filehandle into Beautiful Soup.\n",
      "  soup = BeautifulSoup(html, \"html.parser\")\n",
      " 52%|█████▏    | 24485/47357 [1:17:02<46:15,  8.24it/s]  /Users/arshath/miniforge3/lib/python3.10/html/parser.py:170: XMLParsedAsHTMLWarning: It looks like you're parsing an XML document using an HTML parser. If this really is an HTML document (maybe it's XHTML?), you can ignore or filter this warning. If it's XML, you should know that using an XML parser will be more reliable. To parse this document as XML, make sure you have the lxml package installed, and pass the keyword argument `features=\"xml\"` into the BeautifulSoup constructor.\n",
      "  k = self.parse_starttag(i)\n",
      "100%|██████████| 47357/47357 [2:21:33<00:00,  5.58it/s]  \n"
     ]
    }
   ],
   "source": [
    "NUM_WORKERS = 10\n",
    "retrieved_docs = {}\n",
    "\n",
    "# use concurrent.futures to speed up the process; use tqdm to track progress\n",
    "with ThreadPoolExecutor(max_workers=NUM_WORKERS) as executor:\n",
    "    futures = []\n",
    "    for url in tqdm(all_questions):\n",
    "        future = executor.submit(get_html, url)\n",
    "        futures.append(future)\n",
    "    \n",
    "    for future in tqdm(as_completed(futures), total=len(futures)):\n",
    "        result = future.result()\n",
    "        retrieved_docs[result[\"url\"]] = result"
   ]
  },
  {
   "cell_type": "code",
   "execution_count": 20,
   "metadata": {},
   "outputs": [],
   "source": [
    "with open(\"../data/autocast/retrieved_docs.pkl\", \"wb\") as f:\n",
    "    pickle.dump(retrieved_docs, f)"
   ]
  },
  {
   "cell_type": "markdown",
   "metadata": {},
   "source": [
    "#### Analyse extracted source_links"
   ]
  },
  {
   "cell_type": "code",
   "execution_count": 6,
   "metadata": {},
   "outputs": [],
   "source": [
    "with open(\"../data/autocast/retrieved_docs.pkl\", \"rb\") as f:\n",
    "    retrieved_docs = pickle.load(f)"
   ]
  },
  {
   "cell_type": "code",
   "execution_count": 7,
   "metadata": {},
   "outputs": [
    {
     "data": {
      "text/plain": [
       "(47357, 4)"
      ]
     },
     "execution_count": 7,
     "metadata": {},
     "output_type": "execute_result"
    }
   ],
   "source": [
    "docs_df = pd.DataFrame(retrieved_docs).T.reset_index(drop=True)\n",
    "docs_df.shape"
   ]
  },
  {
   "cell_type": "code",
   "execution_count": 8,
   "metadata": {},
   "outputs": [
    {
     "data": {
      "text/plain": [
       "(19261, 4)"
      ]
     },
     "execution_count": 8,
     "metadata": {},
     "output_type": "execute_result"
    }
   ],
   "source": [
    "docs_df_error = docs_df[docs_df[\"error\"] == True].reset_index(drop=True)\n",
    "docs_df_error.shape"
   ]
  },
  {
   "cell_type": "code",
   "execution_count": 9,
   "metadata": {},
   "outputs": [
    {
     "data": {
      "text/plain": [
       "(28096, 4)"
      ]
     },
     "execution_count": 9,
     "metadata": {},
     "output_type": "execute_result"
    }
   ],
   "source": [
    "docs_df_no_error = docs_df[docs_df[\"error\"] == False].reset_index(drop=True)\n",
    "docs_df_no_error.shape"
   ]
  },
  {
   "cell_type": "code",
   "execution_count": 10,
   "metadata": {},
   "outputs": [],
   "source": [
    "def count_no_error_links(row):\n",
    "    count = 0\n",
    "    for link in row[\"source_links\"]:\n",
    "        if link in docs_df_no_error[\"url\"].values:\n",
    "            count += 1\n",
    "\n",
    "    return count\n",
    "\n",
    "df[\"num_no_error_links\"] = df.apply(count_no_error_links, axis=1)"
   ]
  },
  {
   "cell_type": "code",
   "execution_count": 11,
   "metadata": {},
   "outputs": [
    {
     "data": {
      "text/plain": [
       "899"
      ]
     },
     "execution_count": 11,
     "metadata": {},
     "output_type": "execute_result"
    }
   ],
   "source": [
    "df[\"num_no_error_links\"].value_counts().sort_index()[3:].sum()"
   ]
  },
  {
   "cell_type": "code",
   "execution_count": 12,
   "metadata": {},
   "outputs": [
    {
     "data": {
      "text/plain": [
       "num_no_error_links\n",
       "3     149\n",
       "4     135\n",
       "5      83\n",
       "6      51\n",
       "7      41\n",
       "8      30\n",
       "9      11\n",
       "10     10\n",
       "11      5\n",
       "12      4\n",
       "13      2\n",
       "14     10\n",
       "15      5\n",
       "16     10\n",
       "17      8\n",
       "18     12\n",
       "19      7\n",
       "Name: count, dtype: int64"
      ]
     },
     "execution_count": 12,
     "metadata": {},
     "output_type": "execute_result"
    }
   ],
   "source": [
    "df[\"num_no_error_links\"].value_counts().sort_index()[3:20]"
   ]
  },
  {
   "cell_type": "code",
   "execution_count": 13,
   "metadata": {},
   "outputs": [
    {
     "data": {
      "text/plain": [
       "289"
      ]
     },
     "execution_count": 13,
     "metadata": {},
     "output_type": "execute_result"
    }
   ],
   "source": [
    "df[\"num_no_error_links\"].value_counts().sort_index()[5:20].sum()"
   ]
  },
  {
   "cell_type": "code",
   "execution_count": 14,
   "metadata": {},
   "outputs": [],
   "source": [
    "docs_df_no_error['num_words'] = docs_df_no_error['text'].apply(lambda x: len(x.split()))"
   ]
  },
  {
   "cell_type": "code",
   "execution_count": 15,
   "metadata": {},
   "outputs": [
    {
     "data": {
      "text/plain": [
       "0.25      647.75\n",
       "0.50     1095.00\n",
       "0.75     1836.00\n",
       "0.90     4334.50\n",
       "0.95    10097.25\n",
       "0.99    39763.75\n",
       "Name: num_words, dtype: float64"
      ]
     },
     "execution_count": 15,
     "metadata": {},
     "output_type": "execute_result"
    }
   ],
   "source": [
    "docs_df_no_error['num_words'].quantile([0.25, 0.50, .75, .9, .95, .99])"
   ]
  },
  {
   "cell_type": "code",
   "execution_count": 16,
   "metadata": {},
   "outputs": [],
   "source": [
    "# count number of source links that are more than n words\n",
    "def count_num_words(row, n):\n",
    "    count = 0\n",
    "    for link in row[\"source_links\"]:\n",
    "        if link in docs_df_no_error[\"url\"].values:\n",
    "            num_words = docs_df_no_error[docs_df_no_error[\"url\"] == link][\"num_words\"].values[0]\n",
    "            if num_words > n:\n",
    "                count += 1\n",
    "\n",
    "    return count\n",
    "\n",
    "df[\"num_words_1000\"] = df.apply(lambda x: count_num_words(x, 1000), axis=1)"
   ]
  },
  {
   "cell_type": "code",
   "execution_count": 17,
   "metadata": {},
   "outputs": [
    {
     "data": {
      "text/plain": [
       "685"
      ]
     },
     "execution_count": 17,
     "metadata": {},
     "output_type": "execute_result"
    }
   ],
   "source": [
    "df[\"num_words_1000\"].value_counts().sort_index()[3:].sum()"
   ]
  },
  {
   "cell_type": "code",
   "execution_count": 18,
   "metadata": {},
   "outputs": [
    {
     "data": {
      "text/plain": [
       "472"
      ]
     },
     "execution_count": 18,
     "metadata": {},
     "output_type": "execute_result"
    }
   ],
   "source": [
    "df[\"num_words_1000\"].value_counts().sort_index()[5:].sum()"
   ]
  },
  {
   "cell_type": "markdown",
   "metadata": {},
   "source": [
    "### Making final dataset"
   ]
  },
  {
   "cell_type": "markdown",
   "metadata": {},
   "source": [
    "we filter out the following\n",
    "- non 200 codes\n",
    "- urls with certain keywords that were identified during manual checking\n",
    "- and finally, filter links that had less than 1000 words\n",
    "- the final dataset will have a minimum of 5 and maximum of 20 source_links "
   ]
  },
  {
   "cell_type": "code",
   "execution_count": 19,
   "metadata": {},
   "outputs": [],
   "source": [
    "final_df = df.copy()"
   ]
  },
  {
   "cell_type": "code",
   "execution_count": 20,
   "metadata": {},
   "outputs": [],
   "source": [
    "# keep only questions with at least 5 links and more than 1000 words\n",
    "final_df = final_df[final_df[\"num_words_1000\"] >= 5].reset_index(drop=True)"
   ]
  },
  {
   "cell_type": "code",
   "execution_count": 21,
   "metadata": {},
   "outputs": [],
   "source": [
    "# source_links remove links that are not in docs_df_no_error and keep only links that have more than 1000 words\n",
    "def filter_source_links(row):\n",
    "    links = []\n",
    "    for link in row[\"source_links\"]:\n",
    "        if link in docs_df_no_error[\"url\"].values:\n",
    "            num_words = docs_df_no_error[docs_df_no_error[\"url\"] == link][\"num_words\"].values[0]\n",
    "            if num_words > 1000:\n",
    "                links.append(link)\n",
    "\n",
    "    return links\n",
    "\n",
    "final_df[\"source_links\"] = final_df.apply(filter_source_links, axis=1)"
   ]
  },
  {
   "cell_type": "code",
   "execution_count": 22,
   "metadata": {},
   "outputs": [],
   "source": [
    "# verify that all links are in docs_df_no_error and have more than 1000 words\n",
    "for links in final_df[\"source_links\"]:\n",
    "    for link in links:\n",
    "        assert link in docs_df_no_error[\"url\"].values\n",
    "        assert docs_df_no_error[docs_df_no_error[\"url\"] == link][\"num_words\"].values[0] > 1000"
   ]
  },
  {
   "cell_type": "code",
   "execution_count": 23,
   "metadata": {},
   "outputs": [],
   "source": [
    "# from final_df remove added columns\n",
    "final_df = final_df.drop(columns=[\"num_links\", \"num_no_error_links\", \"num_words_1000\"])\n",
    "\n",
    "# convert to json\n",
    "final_df.to_json(\"autocast_questions_filtered.json\", orient=\"records\")"
   ]
  },
  {
   "cell_type": "code",
   "execution_count": 27,
   "metadata": {},
   "outputs": [],
   "source": [
    "# from docs_df_no_error keep only urls that are in final_df\n",
    "docs_df_no_error = docs_df_no_error[docs_df_no_error[\"url\"].isin(final_df[\"source_links\"].explode().unique())].reset_index(drop=True)\n",
    "\n",
    "# drop error, error_message, num_words\n",
    "docs_df_no_error = docs_df_no_error.drop(columns=[\"error\", \"error_message\", \"num_words\"])\n"
   ]
  },
  {
   "cell_type": "code",
   "execution_count": 28,
   "metadata": {},
   "outputs": [],
   "source": [
    "# save as pickle\n",
    "with open(\"autocast_questions_filtered.pkl\", \"wb\") as f:\n",
    "    pickle.dump(docs_df_no_error, f)"
   ]
  },
  {
   "cell_type": "markdown",
   "metadata": {},
   "source": [
    "### Verify saved files"
   ]
  },
  {
   "cell_type": "code",
   "execution_count": 29,
   "metadata": {},
   "outputs": [],
   "source": [
    "import json\n",
    "\n",
    "with open(\"autocast_questions_filtered.json\", \"r\") as f:\n",
    "    data = json.load(f)"
   ]
  },
  {
   "cell_type": "code",
   "execution_count": 31,
   "metadata": {},
   "outputs": [
    {
     "data": {
      "text/plain": [
       "{'question': 'Will the Export-Import Bank of the United States be re-authorized before 1 January 2016?',\n",
       " 'id': 'G5',\n",
       " 'background': \"The Export-Import Bank's authorization expired on 1 July, but proponents of the bank are working to get it re-authorized (http://www.nytimes.com/2015/07/01/business/international/though-charter-is-expiring-export-import-bank-will-keep-its-doors-open.html , http://www.nytimes.com/2015/07/06/us/politics/us-export-import-bank-teetering-on-edge.html , http://thehill.com/policy/finance/247953-house-gop-draws-first-in-ex-im-showdown ). Legislation re-authorizing the bank must be signed into law by the President before taking effect.\",\n",
       " 'publish_time': 1441116141242,\n",
       " 'close_time': '2015-12-04 14:00:25+00:00',\n",
       " 'tags': ['Economic Policy', 'US Politics', 'US Policy'],\n",
       " 'source_links': ['http://www.hartfordbusiness.com/article/20151005/NEWS01/310029963',\n",
       "  'http://auburnpub.com/blogs/eye_on_ny/schumer-highway-bill-will-include-export-import-bank-reauthorization/article_d16e8b90-9856-11e5-b3d0-5b3587d57c5f.html',\n",
       "  'http://www.washingtonexaminer.com/export-import-bank-defenders-argue-by-faulty-anecdote/article/2571635',\n",
       "  'http://breakingdefense.com/2015/09/theyre-back-congress-likely-to-pass-short-term-budget-deal/',\n",
       "  'http://dailysignal.com/2015/10/02/how-some-republicans-want-to-employ-a-rarely-used-tool-to-revive-the-export-import-bank/',\n",
       "  'https://www.bostonglobe.com/news/nation/2015/09/28/hopeful-house-democrats-ready-dance-with-republican-speaker-john-boehner-for-bigger-deals/5lFkHgnaRfaYQxesar0J6M/story.html',\n",
       "  'https://en.wikipedia.org/wiki/Tea_Party_movement',\n",
       "  'http://www.politico.com/story/2015/12/senate-transportation-package-ex-im-renewal-216420',\n",
       "  'http://www.forbes.com/sites/lorenthompson/2015/10/23/ten-valuable-things-america-will-lose-if-the-export-import-bank-dies/',\n",
       "  'https://en.wikipedia.org/wiki/Export-Import_Bank_of_the_United_States',\n",
       "  'http://www.washingtonexaminer.com/house-paves-way-for-ex-im-bank-revival/article/2575699',\n",
       "  'http://www.expressnews.com/business/local/article/Cuellar-predicts-Ex-Im-Bank-reauthorization-in-6623226.php',\n",
       "  'http://www.washingtonexaminer.com/no-layoffs-at-export-import-bank-despite-losing-authorization/article/2570126',\n",
       "  'https://en.wikipedia.org/wiki/The_Washington_Times',\n",
       "  'http://dailysignal.com/2015/10/19/top-aide-to-john-boehner-calls-export-import-bank-reauthorization-goal-for-october/',\n",
       "  'https://en.wikipedia.org/wiki/The_Washington_Examiner',\n",
       "  'https://en.wikipedia.org/wiki/Sun_Myung_Moon',\n",
       "  'http://www.dailymail.co.uk/news/article-1301798/JetBlue-flight-attendant-Steven-Slater-quits-job-style-luggage-row-passenger.html',\n",
       "  'http://www.marketwatch.com/story/what-republican-civil-war-means-for-the-us-economy-2015-10-08',\n",
       "  'http://www.theatlantic.com/politics/archive/2014/08/will-republicans-shut-down-the-government-again/379235/',\n",
       "  'http://www.ocregister.com/articles/export-688752-jobs-american.html',\n",
       "  'http://www.mcall.com/business/mc-casey-export-import-bank-reauthorization-20151008-story.html'],\n",
       " 'prediction_count': 1000.0,\n",
       " 'forecaster_count': 379,\n",
       " 'answer': 'yes',\n",
       " 'choices': ['yes', 'no'],\n",
       " 'status': 'Resolved',\n",
       " 'qtype': 't/f',\n",
       " 'crowd': [{'timestamp': '2015-09-01 00:00:00+00:00', 'forecast': 0.5},\n",
       "  {'timestamp': '2015-09-01 23:52:43.469000+00:00', 'forecast': 0.375},\n",
       "  {'timestamp': '2015-09-02 00:39:20.115000+00:00', 'forecast': 0.6},\n",
       "  {'timestamp': '2015-09-02 11:43:49.379000+00:00', 'forecast': 0.425},\n",
       "  {'timestamp': '2015-09-03 02:46:35.133000+00:00', 'forecast': 0.425},\n",
       "  {'timestamp': '2015-09-03 14:55:26.339000+00:00', 'forecast': 0.6},\n",
       "  {'timestamp': '2015-09-04 19:42:08.019000+00:00', 'forecast': 0.475},\n",
       "  {'timestamp': '2015-09-04 20:12:07.924000+00:00', 'forecast': 0.6},\n",
       "  {'timestamp': '2015-09-04 21:19:58.202000+00:00', 'forecast': 0.6},\n",
       "  {'timestamp': '2015-09-05 16:01:10.915000+00:00', 'forecast': 0.6},\n",
       "  {'timestamp': '2015-09-06 01:32:13.123000+00:00', 'forecast': 0.6},\n",
       "  {'timestamp': '2015-09-06 12:31:51.576000+00:00', 'forecast': 0.61},\n",
       "  {'timestamp': '2015-09-08 03:32:26.617000+00:00', 'forecast': 0.6},\n",
       "  {'timestamp': '2015-09-08 07:47:13.782000+00:00', 'forecast': 0.6},\n",
       "  {'timestamp': '2015-09-08 18:43:15.982000+00:00', 'forecast': 0.605},\n",
       "  {'timestamp': '2015-09-09 18:19:23.787000+00:00', 'forecast': 0.61},\n",
       "  {'timestamp': '2015-09-09 18:56:10.164000+00:00', 'forecast': 0.61},\n",
       "  {'timestamp': '2015-09-09 20:59:05.377000+00:00', 'forecast': 0.61},\n",
       "  {'timestamp': '2015-09-10 02:03:33.469000+00:00', 'forecast': 0.61},\n",
       "  {'timestamp': '2015-09-10 15:00:50.612000+00:00', 'forecast': 0.615},\n",
       "  {'timestamp': '2015-09-10 15:48:36.179000+00:00', 'forecast': 0.605},\n",
       "  {'timestamp': '2015-09-10 17:15:57.023000+00:00', 'forecast': 0.61},\n",
       "  {'timestamp': '2015-09-10 18:33:52.111000+00:00', 'forecast': 0.62},\n",
       "  {'timestamp': '2015-09-10 19:00:43.317000+00:00', 'forecast': 0.62},\n",
       "  {'timestamp': '2015-09-10 20:47:07.478000+00:00', 'forecast': 0.61},\n",
       "  {'timestamp': '2015-09-11 06:36:56.415000+00:00', 'forecast': 0.6},\n",
       "  {'timestamp': '2015-09-11 14:50:39.237000+00:00', 'forecast': 0.6},\n",
       "  {'timestamp': '2015-09-11 21:39:50.681000+00:00', 'forecast': 0.6},\n",
       "  {'timestamp': '2015-09-12 00:06:18.992000+00:00', 'forecast': 0.6},\n",
       "  {'timestamp': '2015-09-12 16:26:35.856000+00:00', 'forecast': 0.6},\n",
       "  {'timestamp': '2015-09-13 00:55:08.733000+00:00', 'forecast': 0.6},\n",
       "  {'timestamp': '2015-09-13 02:35:33.934000+00:00', 'forecast': 0.6},\n",
       "  {'timestamp': '2015-09-13 20:17:19.658000+00:00', 'forecast': 0.6},\n",
       "  {'timestamp': '2015-09-14 01:17:11.654000+00:00', 'forecast': 0.6},\n",
       "  {'timestamp': '2015-09-14 03:51:40.392000+00:00', 'forecast': 0.6},\n",
       "  {'timestamp': '2015-09-14 14:00:57.768000+00:00', 'forecast': 0.6},\n",
       "  {'timestamp': '2015-09-14 18:00:04.424000+00:00', 'forecast': 0.6},\n",
       "  {'timestamp': '2015-09-15 02:02:59.566000+00:00', 'forecast': 0.605},\n",
       "  {'timestamp': '2015-09-15 15:20:00.595000+00:00', 'forecast': 0.605},\n",
       "  {'timestamp': '2015-09-15 17:01:02.248000+00:00', 'forecast': 0.6},\n",
       "  {'timestamp': '2015-09-15 17:17:13.338000+00:00', 'forecast': 0.6},\n",
       "  {'timestamp': '2015-09-15 22:42:00.517000+00:00', 'forecast': 0.6},\n",
       "  {'timestamp': '2015-09-15 23:44:43.376000+00:00', 'forecast': 0.605},\n",
       "  {'timestamp': '2015-09-16 15:08:56.097000+00:00', 'forecast': 0.61},\n",
       "  {'timestamp': '2015-09-16 17:04:08.681000+00:00', 'forecast': 0.61},\n",
       "  {'timestamp': '2015-09-16 17:42:21.740000+00:00', 'forecast': 0.6},\n",
       "  {'timestamp': '2015-09-16 18:46:52.413000+00:00', 'forecast': 0.61},\n",
       "  {'timestamp': '2015-09-16 21:02:34.453000+00:00', 'forecast': 0.605},\n",
       "  {'timestamp': '2015-09-16 21:29:39.139000+00:00', 'forecast': 0.615},\n",
       "  {'timestamp': '2015-09-16 23:46:21.520000+00:00', 'forecast': 0.605},\n",
       "  {'timestamp': '2015-09-17 00:34:51.358000+00:00', 'forecast': 0.6},\n",
       "  {'timestamp': '2015-09-17 13:06:04.987000+00:00', 'forecast': 0.605},\n",
       "  {'timestamp': '2015-09-17 19:18:01.908000+00:00', 'forecast': 0.61},\n",
       "  {'timestamp': '2015-09-18 12:04:41.901000+00:00', 'forecast': 0.61},\n",
       "  {'timestamp': '2015-09-18 16:19:57.760000+00:00', 'forecast': 0.615},\n",
       "  {'timestamp': '2015-09-18 18:22:12.994000+00:00', 'forecast': 0.625},\n",
       "  {'timestamp': '2015-09-19 20:15:42.309000+00:00', 'forecast': 0.625},\n",
       "  {'timestamp': '2015-09-19 20:57:18.201000+00:00', 'forecast': 0.63},\n",
       "  {'timestamp': '2015-09-20 02:45:24.772000+00:00', 'forecast': 0.65},\n",
       "  {'timestamp': '2015-09-20 12:59:57.700000+00:00', 'forecast': 0.65},\n",
       "  {'timestamp': '2015-09-21 03:05:42.598000+00:00', 'forecast': 0.65},\n",
       "  {'timestamp': '2015-09-21 07:00:06.182000+00:00', 'forecast': 0.65},\n",
       "  {'timestamp': '2015-09-21 12:15:55.421000+00:00', 'forecast': 0.65},\n",
       "  {'timestamp': '2015-09-21 16:29:47.347000+00:00', 'forecast': 0.65},\n",
       "  {'timestamp': '2015-09-21 17:03:00.864000+00:00', 'forecast': 0.65},\n",
       "  {'timestamp': '2015-09-21 19:49:31.609000+00:00', 'forecast': 0.65},\n",
       "  {'timestamp': '2015-09-22 04:34:24.134000+00:00', 'forecast': 0.65},\n",
       "  {'timestamp': '2015-09-22 16:27:54.186000+00:00', 'forecast': 0.65},\n",
       "  {'timestamp': '2015-09-23 12:21:05.269000+00:00', 'forecast': 0.65},\n",
       "  {'timestamp': '2015-09-23 16:00:40.899000+00:00', 'forecast': 0.65},\n",
       "  {'timestamp': '2015-09-24 14:26:48.265000+00:00', 'forecast': 0.65},\n",
       "  {'timestamp': '2015-09-25 00:30:31.362000+00:00', 'forecast': 0.65},\n",
       "  {'timestamp': '2015-09-25 03:07:53.238000+00:00', 'forecast': 0.65},\n",
       "  {'timestamp': '2015-09-25 13:53:47.241000+00:00', 'forecast': 0.65},\n",
       "  {'timestamp': '2015-09-25 16:27:16.884000+00:00', 'forecast': 0.65},\n",
       "  {'timestamp': '2015-09-25 22:30:04.086000+00:00', 'forecast': 0.65},\n",
       "  {'timestamp': '2015-09-25 23:46:23.320000+00:00', 'forecast': 0.65},\n",
       "  {'timestamp': '2015-09-26 01:27:24.947000+00:00', 'forecast': 0.65},\n",
       "  {'timestamp': '2015-09-26 05:20:58.978000+00:00', 'forecast': 0.65},\n",
       "  {'timestamp': '2015-09-26 12:31:13.934000+00:00', 'forecast': 0.65},\n",
       "  {'timestamp': '2015-09-26 13:40:51.615000+00:00', 'forecast': 0.65},\n",
       "  {'timestamp': '2015-09-26 17:38:45.954000+00:00', 'forecast': 0.65},\n",
       "  {'timestamp': '2015-09-26 19:14:47.455000+00:00', 'forecast': 0.65},\n",
       "  {'timestamp': '2015-09-26 22:00:48.536000+00:00', 'forecast': 0.65},\n",
       "  {'timestamp': '2015-09-26 22:33:19.233000+00:00', 'forecast': 0.65},\n",
       "  {'timestamp': '2015-09-27 01:22:10.512000+00:00', 'forecast': 0.65},\n",
       "  {'timestamp': '2015-09-27 02:33:08.378000+00:00', 'forecast': 0.65},\n",
       "  {'timestamp': '2015-09-27 05:03:51.597000+00:00', 'forecast': 0.65},\n",
       "  {'timestamp': '2015-09-27 14:17:52.228000+00:00', 'forecast': 0.65},\n",
       "  {'timestamp': '2015-09-27 16:14:58.686000+00:00', 'forecast': 0.65},\n",
       "  {'timestamp': '2015-09-27 23:55:50.004000+00:00', 'forecast': 0.65},\n",
       "  {'timestamp': '2015-09-28 01:06:48.101000+00:00', 'forecast': 0.65},\n",
       "  {'timestamp': '2015-09-28 14:53:36.755000+00:00', 'forecast': 0.65},\n",
       "  {'timestamp': '2015-09-28 17:29:53.429000+00:00', 'forecast': 0.65},\n",
       "  {'timestamp': '2015-09-28 19:20:04.253000+00:00', 'forecast': 0.65},\n",
       "  {'timestamp': '2015-09-28 19:53:22.438000+00:00', 'forecast': 0.65},\n",
       "  {'timestamp': '2015-09-29 00:35:43.362000+00:00', 'forecast': 0.65},\n",
       "  {'timestamp': '2015-09-29 02:48:02.307000+00:00', 'forecast': 0.65},\n",
       "  {'timestamp': '2015-09-29 15:50:29.124000+00:00', 'forecast': 0.65},\n",
       "  {'timestamp': '2015-09-29 17:51:25.714000+00:00', 'forecast': 0.65},\n",
       "  {'timestamp': '2015-09-29 19:49:10.535000+00:00', 'forecast': 0.65},\n",
       "  {'timestamp': '2015-09-30 02:08:11.637000+00:00', 'forecast': 0.65},\n",
       "  {'timestamp': '2015-09-30 15:23:57.781000+00:00', 'forecast': 0.65},\n",
       "  {'timestamp': '2015-09-30 16:24:38.013000+00:00', 'forecast': 0.65},\n",
       "  {'timestamp': '2015-09-30 16:48:45.255000+00:00', 'forecast': 0.65},\n",
       "  {'timestamp': '2015-09-30 17:31:39.771000+00:00', 'forecast': 0.65},\n",
       "  {'timestamp': '2015-09-30 20:01:25.449000+00:00', 'forecast': 0.65},\n",
       "  {'timestamp': '2015-09-30 20:41:10.153000+00:00', 'forecast': 0.65},\n",
       "  {'timestamp': '2015-10-01 07:37:26.037000+00:00', 'forecast': 0.65},\n",
       "  {'timestamp': '2015-10-01 14:11:49.383000+00:00', 'forecast': 0.65},\n",
       "  {'timestamp': '2015-10-01 18:49:57.624000+00:00', 'forecast': 0.665},\n",
       "  {'timestamp': '2015-10-01 19:56:35.209000+00:00', 'forecast': 0.665},\n",
       "  {'timestamp': '2015-10-01 20:45:56.363000+00:00', 'forecast': 0.69},\n",
       "  {'timestamp': '2015-10-02 00:10:51.287000+00:00', 'forecast': 0.7},\n",
       "  {'timestamp': '2015-10-02 03:11:08.715000+00:00', 'forecast': 0.7},\n",
       "  {'timestamp': '2015-10-02 11:05:31.815000+00:00', 'forecast': 0.7},\n",
       "  {'timestamp': '2015-10-02 12:39:02.339000+00:00', 'forecast': 0.7},\n",
       "  {'timestamp': '2015-10-02 14:04:12.377000+00:00', 'forecast': 0.7},\n",
       "  {'timestamp': '2015-10-02 15:18:57.422000+00:00', 'forecast': 0.7},\n",
       "  {'timestamp': '2015-10-02 18:42:27.363000+00:00', 'forecast': 0.7},\n",
       "  {'timestamp': '2015-10-02 20:14:19.119000+00:00', 'forecast': 0.7},\n",
       "  {'timestamp': '2015-10-02 21:29:48.539000+00:00', 'forecast': 0.7},\n",
       "  {'timestamp': '2015-10-03 14:31:29.709000+00:00', 'forecast': 0.7},\n",
       "  {'timestamp': '2015-10-03 20:55:30.009000+00:00', 'forecast': 0.7},\n",
       "  {'timestamp': '2015-10-04 02:27:14.767000+00:00', 'forecast': 0.7},\n",
       "  {'timestamp': '2015-10-04 09:29:37.778000+00:00', 'forecast': 0.7},\n",
       "  {'timestamp': '2015-10-04 18:50:04.005000+00:00', 'forecast': 0.7},\n",
       "  {'timestamp': '2015-10-05 15:34:24.878000+00:00', 'forecast': 0.7},\n",
       "  {'timestamp': '2015-10-05 15:46:38.404000+00:00', 'forecast': 0.7},\n",
       "  {'timestamp': '2015-10-05 18:46:30.449000+00:00', 'forecast': 0.7},\n",
       "  {'timestamp': '2015-10-06 02:36:36.505000+00:00', 'forecast': 0.7},\n",
       "  {'timestamp': '2015-10-06 05:15:09.422000+00:00', 'forecast': 0.7},\n",
       "  {'timestamp': '2015-10-06 15:43:47.570000+00:00', 'forecast': 0.7},\n",
       "  {'timestamp': '2015-10-06 17:43:19.743000+00:00', 'forecast': 0.7},\n",
       "  {'timestamp': '2015-10-06 19:41:15.208000+00:00', 'forecast': 0.7},\n",
       "  {'timestamp': '2015-10-07 01:27:42.229000+00:00', 'forecast': 0.7},\n",
       "  {'timestamp': '2015-10-07 03:54:46.304000+00:00', 'forecast': 0.7},\n",
       "  {'timestamp': '2015-10-07 07:37:21.494000+00:00', 'forecast': 0.7},\n",
       "  {'timestamp': '2015-10-07 08:42:07.378000+00:00', 'forecast': 0.7},\n",
       "  {'timestamp': '2015-10-07 17:58:20.036000+00:00', 'forecast': 0.7},\n",
       "  {'timestamp': '2015-10-07 22:31:56.115000+00:00', 'forecast': 0.7},\n",
       "  {'timestamp': '2015-10-07 23:14:08.418000+00:00', 'forecast': 0.7},\n",
       "  {'timestamp': '2015-10-08 00:53:18.982000+00:00', 'forecast': 0.7},\n",
       "  {'timestamp': '2015-10-08 02:53:09.095000+00:00', 'forecast': 0.7},\n",
       "  {'timestamp': '2015-10-08 15:59:00.275000+00:00', 'forecast': 0.7},\n",
       "  {'timestamp': '2015-10-08 17:48:52.942000+00:00', 'forecast': 0.7},\n",
       "  {'timestamp': '2015-10-08 18:00:21.123000+00:00', 'forecast': 0.7},\n",
       "  {'timestamp': '2015-10-08 20:12:42.813000+00:00', 'forecast': 0.7},\n",
       "  {'timestamp': '2015-10-08 21:29:31.817000+00:00', 'forecast': 0.7},\n",
       "  {'timestamp': '2015-10-08 21:53:38.744000+00:00', 'forecast': 0.69},\n",
       "  {'timestamp': '2015-10-09 00:13:04.665000+00:00', 'forecast': 0.69},\n",
       "  {'timestamp': '2015-10-09 10:56:37.015000+00:00', 'forecast': 0.69},\n",
       "  {'timestamp': '2015-10-09 13:00:15.242000+00:00', 'forecast': 0.69},\n",
       "  {'timestamp': '2015-10-09 15:01:20.646000+00:00', 'forecast': 0.69},\n",
       "  {'timestamp': '2015-10-09 17:49:11.007000+00:00', 'forecast': 0.7},\n",
       "  {'timestamp': '2015-10-09 17:54:12.080000+00:00', 'forecast': 0.7},\n",
       "  {'timestamp': '2015-10-09 19:28:10.584000+00:00', 'forecast': 0.7},\n",
       "  {'timestamp': '2015-10-09 19:51:44.645000+00:00', 'forecast': 0.7},\n",
       "  {'timestamp': '2015-10-09 20:04:25.986000+00:00', 'forecast': 0.7},\n",
       "  {'timestamp': '2015-10-09 21:50:01.691000+00:00', 'forecast': 0.7},\n",
       "  {'timestamp': '2015-10-10 00:40:38.983000+00:00', 'forecast': 0.7},\n",
       "  {'timestamp': '2015-10-10 03:07:48.369000+00:00', 'forecast': 0.7},\n",
       "  {'timestamp': '2015-10-10 04:18:56.010000+00:00', 'forecast': 0.7},\n",
       "  {'timestamp': '2015-10-10 12:07:30.659000+00:00', 'forecast': 0.7},\n",
       "  {'timestamp': '2015-10-10 12:24:47.889000+00:00', 'forecast': 0.7},\n",
       "  {'timestamp': '2015-10-10 16:09:19.689000+00:00', 'forecast': 0.7},\n",
       "  {'timestamp': '2015-10-10 19:35:11.508000+00:00', 'forecast': 0.7},\n",
       "  {'timestamp': '2015-10-10 21:52:19.030000+00:00', 'forecast': 0.7},\n",
       "  {'timestamp': '2015-10-11 02:24:35.317000+00:00', 'forecast': 0.7},\n",
       "  {'timestamp': '2015-10-11 06:49:28.076000+00:00', 'forecast': 0.7},\n",
       "  {'timestamp': '2015-10-11 12:17:57.703000+00:00', 'forecast': 0.7},\n",
       "  {'timestamp': '2015-10-11 15:55:25.881000+00:00', 'forecast': 0.7},\n",
       "  {'timestamp': '2015-10-11 20:06:21.928000+00:00', 'forecast': 0.7},\n",
       "  {'timestamp': '2015-10-12 13:09:29.677000+00:00', 'forecast': 0.7},\n",
       "  {'timestamp': '2015-10-12 15:45:57.262000+00:00', 'forecast': 0.7},\n",
       "  {'timestamp': '2015-10-12 17:58:34.845000+00:00', 'forecast': 0.7},\n",
       "  {'timestamp': '2015-10-13 01:19:59.632000+00:00', 'forecast': 0.7},\n",
       "  {'timestamp': '2015-10-13 17:14:41.265000+00:00', 'forecast': 0.7},\n",
       "  {'timestamp': '2015-10-13 17:37:15.534000+00:00', 'forecast': 0.7},\n",
       "  {'timestamp': '2015-10-13 18:49:33.923000+00:00', 'forecast': 0.7},\n",
       "  {'timestamp': '2015-10-13 20:08:54.169000+00:00', 'forecast': 0.7},\n",
       "  {'timestamp': '2015-10-14 13:15:29.187000+00:00', 'forecast': 0.7},\n",
       "  {'timestamp': '2015-10-14 18:42:08.858000+00:00', 'forecast': 0.7},\n",
       "  {'timestamp': '2015-10-14 22:17:46.997000+00:00', 'forecast': 0.7},\n",
       "  {'timestamp': '2015-10-15 09:37:29.439000+00:00', 'forecast': 0.7},\n",
       "  {'timestamp': '2015-10-15 13:03:22.964000+00:00', 'forecast': 0.7},\n",
       "  {'timestamp': '2015-10-15 19:20:03.047000+00:00', 'forecast': 0.7},\n",
       "  {'timestamp': '2015-10-16 16:45:14.047000+00:00', 'forecast': 0.7},\n",
       "  {'timestamp': '2015-10-16 22:48:53.799000+00:00', 'forecast': 0.7},\n",
       "  {'timestamp': '2015-10-17 01:03:23.522000+00:00', 'forecast': 0.7},\n",
       "  {'timestamp': '2015-10-17 16:30:15.892000+00:00', 'forecast': 0.7},\n",
       "  {'timestamp': '2015-10-18 13:57:17.359000+00:00', 'forecast': 0.7},\n",
       "  {'timestamp': '2015-10-19 12:24:31.349000+00:00', 'forecast': 0.7},\n",
       "  {'timestamp': '2015-10-19 14:41:07.333000+00:00', 'forecast': 0.7},\n",
       "  {'timestamp': '2015-10-19 15:54:14.084000+00:00', 'forecast': 0.7},\n",
       "  {'timestamp': '2015-10-20 00:25:33.419000+00:00', 'forecast': 0.7},\n",
       "  {'timestamp': '2015-10-20 03:12:45.535000+00:00', 'forecast': 0.7},\n",
       "  {'timestamp': '2015-10-20 11:52:39.012000+00:00', 'forecast': 0.7},\n",
       "  {'timestamp': '2015-10-20 14:47:04.800000+00:00', 'forecast': 0.7},\n",
       "  {'timestamp': '2015-10-20 18:03:02.179000+00:00', 'forecast': 0.7},\n",
       "  {'timestamp': '2015-10-20 19:52:24.049000+00:00', 'forecast': 0.7},\n",
       "  {'timestamp': '2015-10-21 12:31:31.242000+00:00', 'forecast': 0.7},\n",
       "  {'timestamp': '2015-10-21 17:11:06.098000+00:00', 'forecast': 0.7},\n",
       "  {'timestamp': '2015-10-22 10:24:47.742000+00:00', 'forecast': 0.7},\n",
       "  {'timestamp': '2015-10-22 17:03:40.030000+00:00', 'forecast': 0.7},\n",
       "  {'timestamp': '2015-10-22 20:02:30.849000+00:00', 'forecast': 0.7},\n",
       "  {'timestamp': '2015-10-22 21:41:02.283000+00:00', 'forecast': 0.7},\n",
       "  {'timestamp': '2015-10-23 15:00:04.187000+00:00', 'forecast': 0.7},\n",
       "  {'timestamp': '2015-10-23 19:58:29.949000+00:00', 'forecast': 0.7},\n",
       "  {'timestamp': '2015-10-24 13:50:59.110000+00:00', 'forecast': 0.7},\n",
       "  {'timestamp': '2015-10-24 20:09:27.249000+00:00', 'forecast': 0.7},\n",
       "  {'timestamp': '2015-10-25 02:46:48.534000+00:00', 'forecast': 0.705},\n",
       "  {'timestamp': '2015-10-25 11:53:52.163000+00:00', 'forecast': 0.7},\n",
       "  {'timestamp': '2015-10-25 13:57:33.489000+00:00', 'forecast': 0.7},\n",
       "  {'timestamp': '2015-10-25 14:42:24.956000+00:00', 'forecast': 0.71},\n",
       "  {'timestamp': '2015-10-25 14:47:24.261000+00:00', 'forecast': 0.71},\n",
       "  {'timestamp': '2015-10-25 14:55:42.565000+00:00', 'forecast': 0.72},\n",
       "  {'timestamp': '2015-10-25 15:07:00.368000+00:00', 'forecast': 0.72},\n",
       "  {'timestamp': '2015-10-25 15:26:57.527000+00:00', 'forecast': 0.73},\n",
       "  {'timestamp': '2015-10-25 15:33:52.682000+00:00', 'forecast': 0.73},\n",
       "  {'timestamp': '2015-10-25 16:06:40.682000+00:00', 'forecast': 0.73},\n",
       "  {'timestamp': '2015-10-25 16:15:49.192000+00:00', 'forecast': 0.74},\n",
       "  {'timestamp': '2015-10-25 16:45:59.309000+00:00', 'forecast': 0.74},\n",
       "  {'timestamp': '2015-10-25 17:01:39.478000+00:00', 'forecast': 0.74},\n",
       "  {'timestamp': '2015-10-25 17:03:22.241000+00:00', 'forecast': 0.74},\n",
       "  {'timestamp': '2015-10-25 17:07:01.672000+00:00', 'forecast': 0.74},\n",
       "  {'timestamp': '2015-10-25 17:18:46.574000+00:00', 'forecast': 0.74},\n",
       "  {'timestamp': '2015-10-25 17:29:06.547000+00:00', 'forecast': 0.74},\n",
       "  {'timestamp': '2015-10-25 17:40:00.566000+00:00', 'forecast': 0.74},\n",
       "  {'timestamp': '2015-10-25 17:41:57.407000+00:00', 'forecast': 0.74},\n",
       "  {'timestamp': '2015-10-25 17:47:03.090000+00:00', 'forecast': 0.74},\n",
       "  {'timestamp': '2015-10-25 18:05:20.279000+00:00', 'forecast': 0.74},\n",
       "  {'timestamp': '2015-10-25 18:55:22.811000+00:00', 'forecast': 0.74},\n",
       "  {'timestamp': '2015-10-25 19:07:20.638000+00:00', 'forecast': 0.735},\n",
       "  {'timestamp': '2015-10-25 19:28:39.961000+00:00', 'forecast': 0.73},\n",
       "  {'timestamp': '2015-10-25 22:31:17.287000+00:00', 'forecast': 0.73},\n",
       "  {'timestamp': '2015-10-26 00:13:40.866000+00:00', 'forecast': 0.73},\n",
       "  {'timestamp': '2015-10-26 01:18:23.314000+00:00', 'forecast': 0.73},\n",
       "  {'timestamp': '2015-10-26 02:21:13.120000+00:00', 'forecast': 0.73},\n",
       "  {'timestamp': '2015-10-26 09:41:56.178000+00:00', 'forecast': 0.73},\n",
       "  {'timestamp': '2015-10-26 13:15:56.224000+00:00', 'forecast': 0.73},\n",
       "  {'timestamp': '2015-10-26 15:13:36.205000+00:00', 'forecast': 0.735},\n",
       "  {'timestamp': '2015-10-26 15:56:56.933000+00:00', 'forecast': 0.74},\n",
       "  {'timestamp': '2015-10-26 19:42:35.564000+00:00', 'forecast': 0.74},\n",
       "  {'timestamp': '2015-10-26 20:50:38.889000+00:00', 'forecast': 0.74},\n",
       "  {'timestamp': '2015-10-26 21:34:33.249000+00:00', 'forecast': 0.74},\n",
       "  {'timestamp': '2015-10-26 22:18:55.377000+00:00', 'forecast': 0.74},\n",
       "  {'timestamp': '2015-10-26 22:25:04.996000+00:00', 'forecast': 0.735},\n",
       "  {'timestamp': '2015-10-26 23:23:25.495000+00:00', 'forecast': 0.735},\n",
       "  {'timestamp': '2015-10-27 01:34:36.566000+00:00', 'forecast': 0.74},\n",
       "  {'timestamp': '2015-10-27 01:56:03.698000+00:00', 'forecast': 0.75},\n",
       "  {'timestamp': '2015-10-27 02:38:58.413000+00:00', 'forecast': 0.75},\n",
       "  {'timestamp': '2015-10-27 02:50:07.893000+00:00', 'forecast': 0.75},\n",
       "  {'timestamp': '2015-10-27 04:25:51.260000+00:00', 'forecast': 0.75},\n",
       "  {'timestamp': '2015-10-27 06:22:56.186000+00:00', 'forecast': 0.75},\n",
       "  {'timestamp': '2015-10-27 07:04:27.728000+00:00', 'forecast': 0.75},\n",
       "  {'timestamp': '2015-10-27 07:58:06.662000+00:00', 'forecast': 0.75},\n",
       "  {'timestamp': '2015-10-27 08:23:30.996000+00:00', 'forecast': 0.75},\n",
       "  {'timestamp': '2015-10-27 09:58:06.945000+00:00', 'forecast': 0.75},\n",
       "  {'timestamp': '2015-10-27 13:26:38.385000+00:00', 'forecast': 0.75},\n",
       "  {'timestamp': '2015-10-27 14:12:57.719000+00:00', 'forecast': 0.75},\n",
       "  {'timestamp': '2015-10-27 17:12:38.103000+00:00', 'forecast': 0.75},\n",
       "  {'timestamp': '2015-10-27 18:00:07.700000+00:00', 'forecast': 0.75},\n",
       "  {'timestamp': '2015-10-27 19:07:37.537000+00:00', 'forecast': 0.75},\n",
       "  {'timestamp': '2015-10-27 20:21:13.031000+00:00', 'forecast': 0.75},\n",
       "  {'timestamp': '2015-10-27 21:08:45.311000+00:00', 'forecast': 0.75},\n",
       "  {'timestamp': '2015-10-27 22:48:05.046000+00:00', 'forecast': 0.75},\n",
       "  {'timestamp': '2015-10-28 01:37:44.236000+00:00', 'forecast': 0.75},\n",
       "  {'timestamp': '2015-10-28 02:44:11.061000+00:00', 'forecast': 0.75},\n",
       "  {'timestamp': '2015-10-28 02:54:29.099000+00:00', 'forecast': 0.75},\n",
       "  {'timestamp': '2015-10-28 02:55:04.588000+00:00', 'forecast': 0.75},\n",
       "  {'timestamp': '2015-10-28 04:36:13.418000+00:00', 'forecast': 0.75},\n",
       "  {'timestamp': '2015-10-28 07:10:04.230000+00:00', 'forecast': 0.75},\n",
       "  {'timestamp': '2015-10-28 08:44:38.833000+00:00', 'forecast': 0.75},\n",
       "  {'timestamp': '2015-10-28 10:12:19.388000+00:00', 'forecast': 0.75},\n",
       "  {'timestamp': '2015-10-28 12:47:12.052000+00:00', 'forecast': 0.75},\n",
       "  {'timestamp': '2015-10-28 13:16:20.082000+00:00', 'forecast': 0.75},\n",
       "  {'timestamp': '2015-10-28 13:56:02.643000+00:00', 'forecast': 0.75},\n",
       "  {'timestamp': '2015-10-28 15:12:23.816000+00:00', 'forecast': 0.75},\n",
       "  {'timestamp': '2015-10-28 15:24:23.084000+00:00', 'forecast': 0.75},\n",
       "  {'timestamp': '2015-10-28 17:44:30.093000+00:00', 'forecast': 0.75},\n",
       "  {'timestamp': '2015-10-28 18:17:27.030000+00:00', 'forecast': 0.75},\n",
       "  {'timestamp': '2015-10-28 21:01:15.053000+00:00', 'forecast': 0.75},\n",
       "  {'timestamp': '2015-10-28 22:19:45.558000+00:00', 'forecast': 0.75},\n",
       "  {'timestamp': '2015-10-29 01:11:34.852000+00:00', 'forecast': 0.75},\n",
       "  {'timestamp': '2015-10-29 02:05:55.435000+00:00', 'forecast': 0.75},\n",
       "  {'timestamp': '2015-10-29 02:49:31.588000+00:00', 'forecast': 0.75},\n",
       "  {'timestamp': '2015-10-29 03:58:46.240000+00:00', 'forecast': 0.75},\n",
       "  {'timestamp': '2015-10-29 10:01:36.671000+00:00', 'forecast': 0.75},\n",
       "  {'timestamp': '2015-10-29 13:43:09.793000+00:00', 'forecast': 0.75},\n",
       "  {'timestamp': '2015-10-29 18:54:15.280000+00:00', 'forecast': 0.75},\n",
       "  {'timestamp': '2015-10-29 23:57:16.296000+00:00', 'forecast': 0.75},\n",
       "  {'timestamp': '2015-10-30 03:15:19.071000+00:00', 'forecast': 0.75},\n",
       "  {'timestamp': '2015-10-30 12:42:29.433000+00:00', 'forecast': 0.75},\n",
       "  {'timestamp': '2015-10-30 15:22:12.397000+00:00', 'forecast': 0.75},\n",
       "  {'timestamp': '2015-10-30 15:23:36.444000+00:00', 'forecast': 0.75},\n",
       "  {'timestamp': '2015-10-30 17:50:00.750000+00:00', 'forecast': 0.75},\n",
       "  {'timestamp': '2015-10-31 01:27:36.990000+00:00', 'forecast': 0.75},\n",
       "  {'timestamp': '2015-10-31 03:27:39.027000+00:00', 'forecast': 0.75},\n",
       "  {'timestamp': '2015-10-31 18:31:28.604000+00:00', 'forecast': 0.75},\n",
       "  {'timestamp': '2015-10-31 20:48:41.939000+00:00', 'forecast': 0.75},\n",
       "  {'timestamp': '2015-10-31 21:42:01.270000+00:00', 'forecast': 0.75},\n",
       "  {'timestamp': '2015-10-31 23:07:27.111000+00:00', 'forecast': 0.75},\n",
       "  {'timestamp': '2015-11-01 00:59:12.559000+00:00', 'forecast': 0.75},\n",
       "  {'timestamp': '2015-11-01 03:24:02.007000+00:00', 'forecast': 0.75},\n",
       "  {'timestamp': '2015-11-01 14:20:31.316000+00:00', 'forecast': 0.75},\n",
       "  {'timestamp': '2015-11-01 18:25:10.841000+00:00', 'forecast': 0.75},\n",
       "  {'timestamp': '2015-11-01 21:25:21.034000+00:00', 'forecast': 0.75},\n",
       "  {'timestamp': '2015-11-01 21:46:33.818000+00:00', 'forecast': 0.75},\n",
       "  {'timestamp': '2015-11-01 22:55:51.428000+00:00', 'forecast': 0.75},\n",
       "  {'timestamp': '2015-11-02 00:13:18.816000+00:00', 'forecast': 0.75},\n",
       "  {'timestamp': '2015-11-02 00:30:18.631000+00:00', 'forecast': 0.75},\n",
       "  {'timestamp': '2015-11-02 02:04:29.074000+00:00', 'forecast': 0.75},\n",
       "  {'timestamp': '2015-11-02 02:23:52.759000+00:00', 'forecast': 0.75},\n",
       "  {'timestamp': '2015-11-02 03:08:15.450000+00:00', 'forecast': 0.75},\n",
       "  {'timestamp': '2015-11-02 03:36:08.480000+00:00', 'forecast': 0.765},\n",
       "  {'timestamp': '2015-11-02 07:51:35.259000+00:00', 'forecast': 0.78},\n",
       "  {'timestamp': '2015-11-02 14:12:55.257000+00:00', 'forecast': 0.78},\n",
       "  {'timestamp': '2015-11-02 16:33:21.698000+00:00', 'forecast': 0.78},\n",
       "  {'timestamp': '2015-11-02 17:28:24.813000+00:00', 'forecast': 0.78},\n",
       "  {'timestamp': '2015-11-02 19:15:46.433000+00:00', 'forecast': 0.78},\n",
       "  {'timestamp': '2015-11-02 23:20:41.040000+00:00', 'forecast': 0.78},\n",
       "  {'timestamp': '2015-11-03 02:24:12.256000+00:00', 'forecast': 0.8},\n",
       "  {'timestamp': '2015-11-03 04:01:18.678000+00:00', 'forecast': 0.8},\n",
       "  {'timestamp': '2015-11-03 08:53:50.524000+00:00', 'forecast': 0.8},\n",
       "  {'timestamp': '2015-11-03 10:25:04.677000+00:00', 'forecast': 0.8},\n",
       "  {'timestamp': '2015-11-03 15:12:07.062000+00:00', 'forecast': 0.8},\n",
       "  {'timestamp': '2015-11-03 17:09:24.927000+00:00', 'forecast': 0.8},\n",
       "  {'timestamp': '2015-11-03 19:05:17.164000+00:00', 'forecast': 0.8},\n",
       "  {'timestamp': '2015-11-03 21:16:35.432000+00:00', 'forecast': 0.8},\n",
       "  {'timestamp': '2015-11-03 21:22:11.117000+00:00', 'forecast': 0.8},\n",
       "  {'timestamp': '2015-11-03 21:24:03.969000+00:00', 'forecast': 0.8},\n",
       "  {'timestamp': '2015-11-03 21:32:24.328000+00:00', 'forecast': 0.8},\n",
       "  {'timestamp': '2015-11-03 21:32:45.813000+00:00', 'forecast': 0.8},\n",
       "  {'timestamp': '2015-11-03 22:06:18.905000+00:00', 'forecast': 0.8},\n",
       "  {'timestamp': '2015-11-03 22:11:44.740000+00:00', 'forecast': 0.8},\n",
       "  {'timestamp': '2015-11-03 22:25:39.560000+00:00', 'forecast': 0.8},\n",
       "  {'timestamp': '2015-11-03 22:28:14.454000+00:00', 'forecast': 0.8},\n",
       "  {'timestamp': '2015-11-03 22:52:49.181000+00:00', 'forecast': 0.8},\n",
       "  {'timestamp': '2015-11-03 23:25:54.655000+00:00', 'forecast': 0.8},\n",
       "  {'timestamp': '2015-11-04 02:25:26.580000+00:00', 'forecast': 0.8},\n",
       "  {'timestamp': '2015-11-04 03:06:42.709000+00:00', 'forecast': 0.8},\n",
       "  {'timestamp': '2015-11-04 10:20:40.665000+00:00', 'forecast': 0.8},\n",
       "  {'timestamp': '2015-11-04 13:26:23.735000+00:00', 'forecast': 0.8},\n",
       "  {'timestamp': '2015-11-04 14:59:04.424000+00:00', 'forecast': 0.8},\n",
       "  {'timestamp': '2015-11-04 15:22:19.260000+00:00', 'forecast': 0.8},\n",
       "  {'timestamp': '2015-11-04 16:55:57.490000+00:00', 'forecast': 0.8},\n",
       "  {'timestamp': '2015-11-04 17:17:39.547000+00:00', 'forecast': 0.8},\n",
       "  {'timestamp': '2015-11-04 18:48:25.194000+00:00', 'forecast': 0.8},\n",
       "  {'timestamp': '2015-11-04 21:18:42.790000+00:00', 'forecast': 0.8},\n",
       "  {'timestamp': '2015-11-05 03:10:29.134000+00:00', 'forecast': 0.8},\n",
       "  {'timestamp': '2015-11-05 03:31:35.265000+00:00', 'forecast': 0.8},\n",
       "  {'timestamp': '2015-11-05 15:09:46.498000+00:00', 'forecast': 0.8},\n",
       "  {'timestamp': '2015-11-05 15:26:15.449000+00:00', 'forecast': 0.8},\n",
       "  {'timestamp': '2015-11-05 15:35:23.416000+00:00', 'forecast': 0.8},\n",
       "  {'timestamp': '2015-11-05 16:23:14.456000+00:00', 'forecast': 0.8},\n",
       "  {'timestamp': '2015-11-05 16:29:01.316000+00:00', 'forecast': 0.8},\n",
       "  {'timestamp': '2015-11-05 16:31:49.036000+00:00', 'forecast': 0.8},\n",
       "  {'timestamp': '2015-11-05 17:17:15.861000+00:00', 'forecast': 0.8},\n",
       "  {'timestamp': '2015-11-05 17:37:36.868000+00:00', 'forecast': 0.8},\n",
       "  {'timestamp': '2015-11-05 18:18:07.852000+00:00', 'forecast': 0.8},\n",
       "  {'timestamp': '2015-11-05 18:31:25.035000+00:00', 'forecast': 0.8},\n",
       "  {'timestamp': '2015-11-05 19:00:10.741000+00:00', 'forecast': 0.8},\n",
       "  {'timestamp': '2015-11-05 19:19:49.218000+00:00', 'forecast': 0.8},\n",
       "  {'timestamp': '2015-11-05 19:33:02.204000+00:00', 'forecast': 0.8},\n",
       "  {'timestamp': '2015-11-05 19:51:15.993000+00:00', 'forecast': 0.8},\n",
       "  {'timestamp': '2015-11-05 20:13:36.977000+00:00', 'forecast': 0.8},\n",
       "  {'timestamp': '2015-11-05 20:57:51.558000+00:00', 'forecast': 0.8},\n",
       "  {'timestamp': '2015-11-05 21:25:34.613000+00:00', 'forecast': 0.8},\n",
       "  {'timestamp': '2015-11-06 01:55:19.734000+00:00', 'forecast': 0.8},\n",
       "  {'timestamp': '2015-11-06 02:48:42.943000+00:00', 'forecast': 0.8},\n",
       "  {'timestamp': '2015-11-06 03:53:19.321000+00:00', 'forecast': 0.8},\n",
       "  {'timestamp': '2015-11-06 05:38:43.793000+00:00', 'forecast': 0.8},\n",
       "  {'timestamp': '2015-11-06 10:19:56.357000+00:00', 'forecast': 0.82},\n",
       "  {'timestamp': '2015-11-06 13:20:54.515000+00:00', 'forecast': 0.84},\n",
       "  {'timestamp': '2015-11-06 13:55:29.155000+00:00', 'forecast': 0.845},\n",
       "  {'timestamp': '2015-11-06 15:29:43.644000+00:00', 'forecast': 0.85},\n",
       "  {'timestamp': '2015-11-06 21:29:06.669000+00:00', 'forecast': 0.85},\n",
       "  {'timestamp': '2015-11-06 22:59:31.902000+00:00', 'forecast': 0.85},\n",
       "  {'timestamp': '2015-11-07 02:50:20.679000+00:00', 'forecast': 0.85},\n",
       "  {'timestamp': '2015-11-07 05:57:38.639000+00:00', 'forecast': 0.85},\n",
       "  {'timestamp': '2015-11-07 14:06:04.878000+00:00', 'forecast': 0.85},\n",
       "  {'timestamp': '2015-11-07 16:27:25.070000+00:00', 'forecast': 0.85},\n",
       "  {'timestamp': '2015-11-07 18:03:55.387000+00:00', 'forecast': 0.85},\n",
       "  {'timestamp': '2015-11-07 19:04:15.213000+00:00', 'forecast': 0.85},\n",
       "  {'timestamp': '2015-11-07 23:34:07.562000+00:00', 'forecast': 0.85},\n",
       "  {'timestamp': '2015-11-08 04:37:40.227000+00:00', 'forecast': 0.85},\n",
       "  {'timestamp': '2015-11-08 13:43:59.528000+00:00', 'forecast': 0.85},\n",
       "  {'timestamp': '2015-11-08 16:59:34.938000+00:00', 'forecast': 0.85},\n",
       "  {'timestamp': '2015-11-08 18:38:27.537000+00:00', 'forecast': 0.85},\n",
       "  {'timestamp': '2015-11-08 22:03:24.827000+00:00', 'forecast': 0.85},\n",
       "  {'timestamp': '2015-11-08 22:57:02.384000+00:00', 'forecast': 0.85},\n",
       "  {'timestamp': '2015-11-09 02:24:05.096000+00:00', 'forecast': 0.85},\n",
       "  {'timestamp': '2015-11-09 03:29:12.165000+00:00', 'forecast': 0.85},\n",
       "  {'timestamp': '2015-11-09 12:58:17.251000+00:00', 'forecast': 0.85},\n",
       "  {'timestamp': '2015-11-09 16:09:30.841000+00:00', 'forecast': 0.85},\n",
       "  {'timestamp': '2015-11-09 17:49:13.163000+00:00', 'forecast': 0.85},\n",
       "  {'timestamp': '2015-11-09 21:45:21.223000+00:00', 'forecast': 0.85},\n",
       "  {'timestamp': '2015-11-10 02:00:04.260000+00:00', 'forecast': 0.85},\n",
       "  {'timestamp': '2015-11-10 03:23:02.545000+00:00', 'forecast': 0.85},\n",
       "  {'timestamp': '2015-11-10 16:24:52.874000+00:00', 'forecast': 0.85},\n",
       "  {'timestamp': '2015-11-10 17:55:32.049000+00:00', 'forecast': 0.85},\n",
       "  {'timestamp': '2015-11-10 22:44:07.034000+00:00', 'forecast': 0.85},\n",
       "  {'timestamp': '2015-11-11 21:53:53.892000+00:00', 'forecast': 0.85},\n",
       "  {'timestamp': '2015-11-12 15:23:20.206000+00:00', 'forecast': 0.85},\n",
       "  {'timestamp': '2015-11-12 19:46:55.863000+00:00', 'forecast': 0.85},\n",
       "  {'timestamp': '2015-11-13 02:52:12.797000+00:00', 'forecast': 0.85},\n",
       "  {'timestamp': '2015-11-13 04:43:35.144000+00:00', 'forecast': 0.85},\n",
       "  {'timestamp': '2015-11-13 16:03:26.901000+00:00', 'forecast': 0.85},\n",
       "  {'timestamp': '2015-11-13 18:36:26.589000+00:00', 'forecast': 0.85},\n",
       "  {'timestamp': '2015-11-14 13:24:54.122000+00:00', 'forecast': 0.85},\n",
       "  {'timestamp': '2015-11-14 23:54:11.859000+00:00', 'forecast': 0.85},\n",
       "  {'timestamp': '2015-11-15 13:30:45.979000+00:00', 'forecast': 0.85},\n",
       "  {'timestamp': '2015-11-15 20:09:25.703000+00:00', 'forecast': 0.85},\n",
       "  {'timestamp': '2015-11-15 21:49:45.001000+00:00', 'forecast': 0.85},\n",
       "  {'timestamp': '2015-11-16 02:00:11.942000+00:00', 'forecast': 0.85},\n",
       "  {'timestamp': '2015-11-16 13:18:27.639000+00:00', 'forecast': 0.85},\n",
       "  {'timestamp': '2015-11-16 13:43:30.139000+00:00', 'forecast': 0.85},\n",
       "  {'timestamp': '2015-11-16 19:06:39.990000+00:00', 'forecast': 0.85},\n",
       "  {'timestamp': '2015-11-17 13:23:30.352000+00:00', 'forecast': 0.85},\n",
       "  {'timestamp': '2015-11-17 16:17:22.521000+00:00', 'forecast': 0.85},\n",
       "  {'timestamp': '2015-11-17 18:49:54.824000+00:00', 'forecast': 0.85},\n",
       "  {'timestamp': '2015-11-17 21:16:01.670000+00:00', 'forecast': 0.85},\n",
       "  {'timestamp': '2015-11-18 05:50:45.152000+00:00', 'forecast': 0.85},\n",
       "  {'timestamp': '2015-11-18 20:04:34.920000+00:00', 'forecast': 0.85},\n",
       "  {'timestamp': '2015-11-18 22:07:07.598000+00:00', 'forecast': 0.85},\n",
       "  {'timestamp': '2015-11-19 19:58:36.794000+00:00', 'forecast': 0.85},\n",
       "  {'timestamp': '2015-11-19 21:40:30.140000+00:00', 'forecast': 0.85},\n",
       "  {'timestamp': '2015-11-20 19:53:47.294000+00:00', 'forecast': 0.85},\n",
       "  {'timestamp': '2015-11-21 05:31:45.779000+00:00', 'forecast': 0.85},\n",
       "  {'timestamp': '2015-11-21 19:13:54.894000+00:00', 'forecast': 0.85},\n",
       "  {'timestamp': '2015-11-21 20:53:51.950000+00:00', 'forecast': 0.85},\n",
       "  {'timestamp': '2015-11-22 15:03:06.089000+00:00', 'forecast': 0.85},\n",
       "  {'timestamp': '2015-11-23 01:11:20.267000+00:00', 'forecast': 0.85},\n",
       "  {'timestamp': '2015-11-23 13:33:05.876000+00:00', 'forecast': 0.85},\n",
       "  {'timestamp': '2015-11-23 22:04:50.741000+00:00', 'forecast': 0.85},\n",
       "  {'timestamp': '2015-11-24 04:25:03.501000+00:00', 'forecast': 0.85},\n",
       "  {'timestamp': '2015-11-24 17:47:10.274000+00:00', 'forecast': 0.85},\n",
       "  {'timestamp': '2015-11-24 21:54:35.805000+00:00', 'forecast': 0.85},\n",
       "  {'timestamp': '2015-11-24 22:23:33.716000+00:00', 'forecast': 0.85},\n",
       "  {'timestamp': '2015-11-24 23:58:04.095000+00:00', 'forecast': 0.85},\n",
       "  {'timestamp': '2015-11-25 03:28:35.028000+00:00', 'forecast': 0.85},\n",
       "  {'timestamp': '2015-11-25 15:26:26.618000+00:00', 'forecast': 0.85},\n",
       "  {'timestamp': '2015-11-25 16:31:23.587000+00:00', 'forecast': 0.85},\n",
       "  {'timestamp': '2015-11-25 21:52:14.506000+00:00', 'forecast': 0.85},\n",
       "  {'timestamp': '2015-11-26 03:11:30.924000+00:00', 'forecast': 0.85},\n",
       "  {'timestamp': '2015-11-26 13:32:55.934000+00:00', 'forecast': 0.85},\n",
       "  {'timestamp': '2015-11-27 16:01:45.914000+00:00', 'forecast': 0.85},\n",
       "  {'timestamp': '2015-11-28 02:57:07.952000+00:00', 'forecast': 0.85},\n",
       "  {'timestamp': '2015-11-28 14:18:40.861000+00:00', 'forecast': 0.85},\n",
       "  {'timestamp': '2015-11-28 21:31:17.613000+00:00', 'forecast': 0.85},\n",
       "  {'timestamp': '2015-11-29 00:38:10.222000+00:00', 'forecast': 0.85},\n",
       "  {'timestamp': '2015-11-29 02:48:18.626000+00:00', 'forecast': 0.85},\n",
       "  {'timestamp': '2015-11-30 03:55:04.228000+00:00', 'forecast': 0.85},\n",
       "  {'timestamp': '2015-11-30 17:01:42.088000+00:00', 'forecast': 0.85},\n",
       "  {'timestamp': '2015-11-30 20:54:22.513000+00:00', 'forecast': 0.85},\n",
       "  {'timestamp': '2015-11-30 22:34:20.936000+00:00', 'forecast': 0.85},\n",
       "  {'timestamp': '2015-12-01 13:27:54.994000+00:00', 'forecast': 0.85},\n",
       "  {'timestamp': '2015-12-01 18:33:43.276000+00:00', 'forecast': 0.85},\n",
       "  {'timestamp': '2015-12-01 19:20:21.585000+00:00', 'forecast': 0.85},\n",
       "  {'timestamp': '2015-12-01 19:43:59.370000+00:00', 'forecast': 0.85},\n",
       "  {'timestamp': '2015-12-01 20:15:42.918000+00:00', 'forecast': 0.85},\n",
       "  {'timestamp': '2015-12-01 20:22:07.266000+00:00', 'forecast': 0.85},\n",
       "  {'timestamp': '2015-12-01 23:41:49.762000+00:00', 'forecast': 0.85},\n",
       "  {'timestamp': '2015-12-02 01:43:05.152000+00:00', 'forecast': 0.85},\n",
       "  {'timestamp': '2015-12-02 02:14:17.285000+00:00', 'forecast': 0.85},\n",
       "  {'timestamp': '2015-12-02 03:25:37.944000+00:00', 'forecast': 0.85},\n",
       "  {'timestamp': '2015-12-02 04:47:34.131000+00:00', 'forecast': 0.85},\n",
       "  {'timestamp': '2015-12-02 13:25:17.460000+00:00', 'forecast': 0.85},\n",
       "  {'timestamp': '2015-12-02 14:33:44.289000+00:00', 'forecast': 0.85},\n",
       "  {'timestamp': '2015-12-02 15:52:31.089000+00:00', 'forecast': 0.85},\n",
       "  {'timestamp': '2015-12-02 18:45:56.225000+00:00', 'forecast': 0.85},\n",
       "  {'timestamp': '2015-12-02 20:01:08.876000+00:00', 'forecast': 0.85},\n",
       "  {'timestamp': '2015-12-02 20:51:09.926000+00:00', 'forecast': 0.85},\n",
       "  {'timestamp': '2015-12-03 01:30:11.971000+00:00', 'forecast': 0.85},\n",
       "  {'timestamp': '2015-12-03 02:24:22.139000+00:00', 'forecast': 0.85},\n",
       "  {'timestamp': '2015-12-03 03:46:32.439000+00:00', 'forecast': 0.85},\n",
       "  {'timestamp': '2015-12-03 05:50:24.526000+00:00', 'forecast': 0.85},\n",
       "  {'timestamp': '2015-12-03 13:24:38.602000+00:00', 'forecast': 0.85},\n",
       "  {'timestamp': '2015-12-03 15:52:33.238000+00:00', 'forecast': 0.85},\n",
       "  {'timestamp': '2015-12-03 17:39:36.545000+00:00', 'forecast': 0.85},\n",
       "  {'timestamp': '2015-12-03 18:10:45.792000+00:00', 'forecast': 0.85},\n",
       "  {'timestamp': '2015-12-03 19:58:09.275000+00:00', 'forecast': 0.85},\n",
       "  {'timestamp': '2015-12-03 21:16:22.839000+00:00', 'forecast': 0.85},\n",
       "  {'timestamp': '2015-12-03 22:49:06.849000+00:00', 'forecast': 0.85},\n",
       "  {'timestamp': '2015-12-03 23:38:01.357000+00:00', 'forecast': 0.85},\n",
       "  {'timestamp': '2015-12-04 01:32:08.484000+00:00', 'forecast': 0.85},\n",
       "  {'timestamp': '2015-12-04 02:22:56.032000+00:00', 'forecast': 0.85},\n",
       "  {'timestamp': '2015-12-04 04:01:50.476000+00:00', 'forecast': 0.85},\n",
       "  {'timestamp': '2015-12-04 13:34:44.583000+00:00', 'forecast': 0.85},\n",
       "  {'timestamp': '2015-12-04 14:00:25+00:00', 'forecast': 0.85}]}"
      ]
     },
     "execution_count": 31,
     "metadata": {},
     "output_type": "execute_result"
    }
   ],
   "source": [
    "data[1]"
   ]
  },
  {
   "cell_type": "code",
   "execution_count": 36,
   "metadata": {},
   "outputs": [],
   "source": [
    "with open(\"autocast_questions_filtered.pkl\", \"rb\") as f:\n",
    "    docs = pickle.load(f)"
   ]
  },
  {
   "cell_type": "code",
   "execution_count": 37,
   "metadata": {},
   "outputs": [
    {
     "data": {
      "text/html": [
       "<div>\n",
       "<style scoped>\n",
       "    .dataframe tbody tr th:only-of-type {\n",
       "        vertical-align: middle;\n",
       "    }\n",
       "\n",
       "    .dataframe tbody tr th {\n",
       "        vertical-align: top;\n",
       "    }\n",
       "\n",
       "    .dataframe thead th {\n",
       "        text-align: right;\n",
       "    }\n",
       "</style>\n",
       "<table border=\"1\" class=\"dataframe\">\n",
       "  <thead>\n",
       "    <tr style=\"text-align: right;\">\n",
       "      <th></th>\n",
       "      <th>url</th>\n",
       "      <th>text</th>\n",
       "    </tr>\n",
       "  </thead>\n",
       "  <tbody>\n",
       "    <tr>\n",
       "      <th>0</th>\n",
       "      <td>https://www.snopes.com/fact-check/ancestry-dna...</td>\n",
       "      <td>\\n\\n\\n\\n\\n\\nCan Ancestry.com Take Ownership of...</td>\n",
       "    </tr>\n",
       "    <tr>\n",
       "      <th>1</th>\n",
       "      <td>http://www.scmp.com/week-asia/article/2018057/...</td>\n",
       "      <td>Opinion | Why no one wants to rule Thailand ot...</td>\n",
       "    </tr>\n",
       "    <tr>\n",
       "      <th>2</th>\n",
       "      <td>https://en.wikipedia.org/wiki/Martin_Leach_(ex...</td>\n",
       "      <td>\\n\\n\\n\\nMartin Leach (executive) - Wikipedia\\n...</td>\n",
       "    </tr>\n",
       "    <tr>\n",
       "      <th>3</th>\n",
       "      <td>http://www.theguardian.com/politics/2016/jan/2...</td>\n",
       "      <td>\\n\\n\\n\\n\\nHolding EU vote during migration cri...</td>\n",
       "    </tr>\n",
       "    <tr>\n",
       "      <th>4</th>\n",
       "      <td>https://www.gjopen.com/faq#question8</td>\n",
       "      <td>\\n\\n\\n\\n\\n\\n\\n\\n\\n\\n        Good Judgment® Ope...</td>\n",
       "    </tr>\n",
       "    <tr>\n",
       "      <th>...</th>\n",
       "      <td>...</td>\n",
       "      <td>...</td>\n",
       "    </tr>\n",
       "    <tr>\n",
       "      <th>14736</th>\n",
       "      <td>https://www.ft.com/content/9d5a5085-40d9-3d13-...</td>\n",
       "      <td>\\nVolkswagen announces $11.8bn electric vehicl...</td>\n",
       "    </tr>\n",
       "    <tr>\n",
       "      <th>14737</th>\n",
       "      <td>https://www.khaleejtimes.com/uae/expo-2020-dub...</td>\n",
       "      <td>\\n\\n\\n\\n\\n\\n\\n\\n\\n\\n\\n\\n\\n\\n\\n\\nExpo 2020 Duba...</td>\n",
       "    </tr>\n",
       "    <tr>\n",
       "      <th>14738</th>\n",
       "      <td>https://en.wikipedia.org/wiki/Viktor_Orb%C3%A1n</td>\n",
       "      <td>\\n\\n\\n\\nViktor Orbán - Wikipedia\\n\\n\\n\\n\\n\\n\\n...</td>\n",
       "    </tr>\n",
       "    <tr>\n",
       "      <th>14739</th>\n",
       "      <td>http://www.washingtonexaminer.com/senate-likel...</td>\n",
       "      <td>����\u0000\u0010JFIF\u0000\u0001\u0001\u0000\u0001,\u0001,\u0000\u0000��\u0005xExif\u0000\u0000MM\u0000*\u0000\u0000\u0000\b\u0000\f\u0001\u000e\u0000\u0002\u0000\u0000...</td>\n",
       "    </tr>\n",
       "    <tr>\n",
       "      <th>14740</th>\n",
       "      <td>http://www.antipope.org/charlie/blog-static/20...</td>\n",
       "      <td>\\n\\n\\n\\n\\n\\n\\nLong range forecast - Charlie's ...</td>\n",
       "    </tr>\n",
       "  </tbody>\n",
       "</table>\n",
       "<p>14741 rows × 2 columns</p>\n",
       "</div>"
      ],
      "text/plain": [
       "                                                     url  \\\n",
       "0      https://www.snopes.com/fact-check/ancestry-dna...   \n",
       "1      http://www.scmp.com/week-asia/article/2018057/...   \n",
       "2      https://en.wikipedia.org/wiki/Martin_Leach_(ex...   \n",
       "3      http://www.theguardian.com/politics/2016/jan/2...   \n",
       "4                   https://www.gjopen.com/faq#question8   \n",
       "...                                                  ...   \n",
       "14736  https://www.ft.com/content/9d5a5085-40d9-3d13-...   \n",
       "14737  https://www.khaleejtimes.com/uae/expo-2020-dub...   \n",
       "14738    https://en.wikipedia.org/wiki/Viktor_Orb%C3%A1n   \n",
       "14739  http://www.washingtonexaminer.com/senate-likel...   \n",
       "14740  http://www.antipope.org/charlie/blog-static/20...   \n",
       "\n",
       "                                                    text  \n",
       "0      \\n\\n\\n\\n\\n\\nCan Ancestry.com Take Ownership of...  \n",
       "1      Opinion | Why no one wants to rule Thailand ot...  \n",
       "2      \\n\\n\\n\\nMartin Leach (executive) - Wikipedia\\n...  \n",
       "3      \\n\\n\\n\\n\\nHolding EU vote during migration cri...  \n",
       "4      \\n\\n\\n\\n\\n\\n\\n\\n\\n\\n        Good Judgment® Ope...  \n",
       "...                                                  ...  \n",
       "14736  \\nVolkswagen announces $11.8bn electric vehicl...  \n",
       "14737  \\n\\n\\n\\n\\n\\n\\n\\n\\n\\n\\n\\n\\n\\n\\n\\nExpo 2020 Duba...  \n",
       "14738  \\n\\n\\n\\nViktor Orbán - Wikipedia\\n\\n\\n\\n\\n\\n\\n...  \n",
       "14739  ����\u0000\u0010JFIF\u0000\u0001\u0001\u0000\u0001,\u0001,\u0000\u0000��\u0005xExif\u0000\u0000MM\u0000*\u0000\u0000\u0000\b\u0000\n",
       "\u0001\u000e\u0000\u0002\u0000\u0000...  \n",
       "14740  \\n\\n\\n\\n\\n\\n\\nLong range forecast - Charlie's ...  \n",
       "\n",
       "[14741 rows x 2 columns]"
      ]
     },
     "execution_count": 37,
     "metadata": {},
     "output_type": "execute_result"
    }
   ],
   "source": [
    "docs"
   ]
  },
  {
   "cell_type": "code",
   "execution_count": null,
   "metadata": {},
   "outputs": [],
   "source": []
  }
 ],
 "metadata": {
  "kernelspec": {
   "display_name": ".venv",
   "language": "python",
   "name": "python3"
  },
  "language_info": {
   "codemirror_mode": {
    "name": "ipython",
    "version": 3
   },
   "file_extension": ".py",
   "mimetype": "text/x-python",
   "name": "python",
   "nbconvert_exporter": "python",
   "pygments_lexer": "ipython3",
   "version": "3.10.13"
  },
  "orig_nbformat": 4
 },
 "nbformat": 4,
 "nbformat_minor": 2
}
